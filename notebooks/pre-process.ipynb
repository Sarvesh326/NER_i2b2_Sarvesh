{
 "cells": [
  {
   "cell_type": "code",
   "execution_count": null,
   "id": "5c60f63a",
   "metadata": {},
   "outputs": [],
   "source": [
    "import pandas as pd"
   ]
  },
  {
   "cell_type": "code",
   "execution_count": 10,
   "id": "ca1fddba",
   "metadata": {},
   "outputs": [],
   "source": [
    "train_path = \"../i2b2/train_.txt\"\n",
    "dev_path = \"../i2b2/dev.txt\"\n",
    "test_path = \"../i2b2/test.txt\"\n",
    "\n",
    "files = [train_path, dev_path, test_path]"
   ]
  },
  {
   "cell_type": "code",
   "execution_count": 11,
   "id": "41470c12",
   "metadata": {},
   "outputs": [
    {
     "name": "stdout",
     "output_type": "stream",
     "text": [
      "Saved: ../i2b2/train__modified.txt\n",
      "Saved: ../i2b2/dev_modified.txt\n",
      "Saved: ../i2b2/test_modified.txt\n"
     ]
    }
   ],
   "source": [
    "for input_path in files:\n",
    "    output_path = input_path.replace(\".txt\", \"_modified.txt\")\n",
    "    with open(input_path, \"r\") as infile, open(output_path, \"w\") as outfile:\n",
    "        for line in infile:\n",
    "            if line.strip() == \"\":\n",
    "                outfile.write(\"_custom_note_separator_\\n\")\n",
    "            else:\n",
    "                outfile.write(line.strip() + \"\\n\")\n",
    "\n",
    "    print(f\"Saved: {output_path}\")\n"
   ]
  },
  {
   "cell_type": "code",
   "execution_count": 14,
   "id": "a5b8399e",
   "metadata": {},
   "outputs": [],
   "source": [
    "def load_i2b2(path):\n",
    "    notes = []\n",
    "    labels = []\n",
    "    tokens = []\n",
    "    tags = []\n",
    "\n",
    "    with open(path, \"r\") as f:\n",
    "        for line in f:\n",
    "            line = line.strip()\n",
    "\n",
    "            if line == \"_custom_note_separator_\":\n",
    "                # end of a note\n",
    "                if tokens:  # avoid empty\n",
    "                    notes.append(tokens)\n",
    "                    labels.append(tags)\n",
    "                    tokens, tags = [], []\n",
    "            else:\n",
    "                parts = line.split()\n",
    "                if len(parts) == 2:\n",
    "                    token, tag = parts\n",
    "                    tokens.append(token)\n",
    "                    tags.append(tag)\n",
    "\n",
    "    # add last note if file doesn’t end with separator\n",
    "    if tokens:\n",
    "        notes.append(tokens)\n",
    "        labels.append(tags)\n",
    "\n",
    "    return notes, labels\n",
    "\n",
    "\n",
    "train_tokens, train_labels = load_i2b2(\"../i2b2/train__modified.txt\")\n",
    "dev_tokens, dev_labels = load_i2b2(\"../i2b2/dev_modified.txt\")\n",
    "test_tokens, test_labels = load_i2b2(\"../i2b2/test_modified.txt\")"
   ]
  },
  {
   "cell_type": "code",
   "execution_count": 16,
   "id": "a72c4507",
   "metadata": {},
   "outputs": [
    {
     "name": "stdout",
     "output_type": "stream",
     "text": [
      "['Findings', 'showed', 'a', 'Mallory', 'Weiss', 'tear', ',', 'nonspecific', 'duodenitis', '.']\n",
      "['O', 'O', 'B-problem', 'I-problem', 'I-problem', 'I-problem', 'O', 'B-problem', 'I-problem', 'O']\n"
     ]
    }
   ],
   "source": [
    "i = 50\n",
    "print(train_tokens[i])\n",
    "print(train_labels[i])"
   ]
  },
  {
   "cell_type": "code",
   "execution_count": 17,
   "id": "b92e2c59",
   "metadata": {},
   "outputs": [
    {
     "name": "stdout",
     "output_type": "stream",
     "text": [
      "[['CC', ':'], ['Dr.', 'Top', 'Dr.', 'Grendbly']]\n",
      "[['O', 'O'], ['O', 'O', 'O', 'O']]\n"
     ]
    }
   ],
   "source": [
    "print(train_tokens[-2:])\n",
    "print(train_labels[-2:])"
   ]
  },
  {
   "cell_type": "code",
   "execution_count": null,
   "id": "7c9b9acf",
   "metadata": {},
   "outputs": [],
   "source": []
  }
 ],
 "metadata": {
  "kernelspec": {
   "display_name": ".venv",
   "language": "python",
   "name": "python3"
  },
  "language_info": {
   "codemirror_mode": {
    "name": "ipython",
    "version": 3
   },
   "file_extension": ".py",
   "mimetype": "text/x-python",
   "name": "python",
   "nbconvert_exporter": "python",
   "pygments_lexer": "ipython3",
   "version": "3.13.1"
  }
 },
 "nbformat": 4,
 "nbformat_minor": 5
}
