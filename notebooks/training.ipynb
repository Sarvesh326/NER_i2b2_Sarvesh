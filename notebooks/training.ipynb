{
 "cells": [
  {
   "cell_type": "markdown",
   "id": "zj5VSuq00Egn",
   "metadata": {
    "id": "zj5VSuq00Egn"
   },
   "source": [
    "## Mount G-Drive (Only when using collab-notebook)"
   ]
  },
  {
   "cell_type": "code",
   "execution_count": 1,
   "id": "pHY9L3ezVWuO",
   "metadata": {
    "colab": {
     "base_uri": "https://localhost:8080/"
    },
    "executionInfo": {
     "elapsed": 33858,
     "status": "ok",
     "timestamp": 1757844421157,
     "user": {
      "displayName": "Sarvesh Singh",
      "userId": "02976406702695079389"
     },
     "user_tz": -330
    },
    "id": "pHY9L3ezVWuO",
    "outputId": "52e36081-6f9e-43e1-f646-4e900d0d3830"
   },
   "outputs": [
    {
     "name": "stdout",
     "output_type": "stream",
     "text": [
      "Mounted at /content/drive\n"
     ]
    }
   ],
   "source": [
    "from google.colab import drive\n",
    "drive.mount('/content/drive')"
   ]
  },
  {
   "cell_type": "code",
   "execution_count": 2,
   "id": "eEOHaLZ7VZNS",
   "metadata": {
    "colab": {
     "base_uri": "https://localhost:8080/"
    },
    "executionInfo": {
     "elapsed": 1734,
     "status": "ok",
     "timestamp": 1757844422887,
     "user": {
      "displayName": "Sarvesh Singh",
      "userId": "02976406702695079389"
     },
     "user_tz": -330
    },
    "id": "eEOHaLZ7VZNS",
    "outputId": "00f578c4-59e4-429d-c2ab-f5afc198fb08"
   },
   "outputs": [
    {
     "name": "stdout",
     "output_type": "stream",
     "text": [
      "/content/drive/MyDrive/NER_Model_for_i2b2/TakeHome_Assignment2/notebooks\n"
     ]
    }
   ],
   "source": [
    "%cd /content/drive/MyDrive/NER_Model_for_i2b2/TakeHome_Assignment2/notebooks"
   ]
  },
  {
   "cell_type": "code",
   "execution_count": 3,
   "id": "0sRmnplbVQID",
   "metadata": {
    "colab": {
     "base_uri": "https://localhost:8080/",
     "height": 35
    },
    "executionInfo": {
     "elapsed": 10,
     "status": "ok",
     "timestamp": 1757844422899,
     "user": {
      "displayName": "Sarvesh Singh",
      "userId": "02976406702695079389"
     },
     "user_tz": -330
    },
    "id": "0sRmnplbVQID",
    "outputId": "5ad591b4-aea3-430a-89ea-914b3ffa8a1b"
   },
   "outputs": [
    {
     "data": {
      "application/vnd.google.colaboratory.intrinsic+json": {
       "type": "string"
      },
      "text/plain": [
       "'/content/drive/MyDrive/NER_Model_for_i2b2/TakeHome_Assignment2/notebooks'"
      ]
     },
     "execution_count": 3,
     "metadata": {},
     "output_type": "execute_result"
    }
   ],
   "source": [
    "\n",
    "%pwd"
   ]
  },
  {
   "cell_type": "markdown",
   "id": "ztIQnTg70MJq",
   "metadata": {
    "id": "ztIQnTg70MJq"
   },
   "source": [
    "## Load the Dataset"
   ]
  },
  {
   "cell_type": "code",
   "execution_count": 32,
   "id": "98ba3a10",
   "metadata": {
    "executionInfo": {
     "elapsed": 5,
     "status": "ok",
     "timestamp": 1757847482504,
     "user": {
      "displayName": "Sarvesh Singh",
      "userId": "02976406702695079389"
     },
     "user_tz": -330
    },
    "id": "98ba3a10"
   },
   "outputs": [],
   "source": [
    "import pandas as pd\n",
    "from datasets import Dataset, DatasetDict"
   ]
  },
  {
   "cell_type": "code",
   "execution_count": 33,
   "id": "b3095bca",
   "metadata": {
    "executionInfo": {
     "elapsed": 156,
     "status": "ok",
     "timestamp": 1757847483312,
     "user": {
      "displayName": "Sarvesh Singh",
      "userId": "02976406702695079389"
     },
     "user_tz": -330
    },
    "id": "b3095bca"
   },
   "outputs": [],
   "source": [
    "def load_i2b2(path):\n",
    "    \"\"\"Takes the modified raw data and gets individual clinical note description along with it's label.\n",
    "    Create word and label lists for each train, dev and test datasets.\"\"\"\n",
    "    notes = []\n",
    "    labels = []\n",
    "    tokens = []\n",
    "    tags = []\n",
    "\n",
    "    with open(path, \"r\") as f:\n",
    "        for line in f:\n",
    "            line = line.strip()\n",
    "\n",
    "            if line == \"_custom_note_separator_\":\n",
    "                # end of a note\n",
    "                if tokens:  # avoid empty\n",
    "                    notes.append(tokens)\n",
    "                    labels.append(tags)\n",
    "                    tokens, tags = [], []\n",
    "            else:\n",
    "                parts = line.split()\n",
    "                if len(parts) == 2:\n",
    "                    token, tag = parts\n",
    "                    tokens.append(token)\n",
    "                    tags.append(tag)\n",
    "\n",
    "    # add last note if file doesn’t end with separator\n",
    "    if tokens:\n",
    "        notes.append(tokens)\n",
    "        labels.append(tags)\n",
    "\n",
    "    return notes, labels\n",
    "\n",
    "\n",
    "train_tokens, train_labels = load_i2b2(\"../i2b2/train__modified.txt\")\n",
    "dev_tokens, dev_labels = load_i2b2(\"../i2b2/dev_modified.txt\")\n",
    "test_tokens, test_labels = load_i2b2(\"../i2b2/test_modified.txt\")"
   ]
  },
  {
   "cell_type": "code",
   "execution_count": 34,
   "id": "f26c9b95",
   "metadata": {
    "colab": {
     "base_uri": "https://localhost:8080/"
    },
    "executionInfo": {
     "elapsed": 112,
     "status": "ok",
     "timestamp": 1757847487638,
     "user": {
      "displayName": "Sarvesh Singh",
      "userId": "02976406702695079389"
     },
     "user_tz": -330
    },
    "id": "f26c9b95",
    "outputId": "b34d2481-7320-4cb0-902d-413142444142"
   },
   "outputs": [
    {
     "name": "stdout",
     "output_type": "stream",
     "text": [
      "DatasetDict({\n",
      "    train: Dataset({\n",
      "        features: ['tokens', 'ner_tags'],\n",
      "        num_rows: 27625\n",
      "    })\n",
      "    validation: Dataset({\n",
      "        features: ['tokens', 'ner_tags'],\n",
      "        num_rows: 2447\n",
      "    })\n",
      "    test: Dataset({\n",
      "        features: ['tokens', 'ner_tags'],\n",
      "        num_rows: 50\n",
      "    })\n",
      "})\n"
     ]
    }
   ],
   "source": [
    "# Create Tensor Dataset\n",
    "def to_dataset(tokens_list, labels_list):\n",
    "    return Dataset.from_dict({\n",
    "        \"tokens\": tokens_list,\n",
    "        \"ner_tags\": labels_list\n",
    "    })\n",
    "\n",
    "dataset = DatasetDict({\n",
    "    \"train\": to_dataset(train_tokens, train_labels),\n",
    "    \"validation\": to_dataset(dev_tokens, dev_labels),\n",
    "    \"test\": to_dataset(test_tokens, test_labels)\n",
    "})\n",
    "\n",
    "print(dataset)"
   ]
  },
  {
   "cell_type": "code",
   "execution_count": 35,
   "id": "b8a32ef4",
   "metadata": {
    "colab": {
     "base_uri": "https://localhost:8080/"
    },
    "executionInfo": {
     "elapsed": 14,
     "status": "ok",
     "timestamp": 1757847490387,
     "user": {
      "displayName": "Sarvesh Singh",
      "userId": "02976406702695079389"
     },
     "user_tz": -330
    },
    "id": "b8a32ef4",
    "outputId": "6c67078a-201e-4436-f32b-d1380cfaefb8"
   },
   "outputs": [
    {
     "data": {
      "text/plain": [
       "{'tokens': ['Unsigned'], 'ner_tags': ['O']}"
      ]
     },
     "execution_count": 35,
     "metadata": {},
     "output_type": "execute_result"
    }
   ],
   "source": [
    "dataset[\"train\"][10]"
   ]
  },
  {
   "cell_type": "code",
   "execution_count": 36,
   "id": "70da94ac",
   "metadata": {
    "colab": {
     "base_uri": "https://localhost:8080/"
    },
    "executionInfo": {
     "elapsed": 13,
     "status": "ok",
     "timestamp": 1757847493033,
     "user": {
      "displayName": "Sarvesh Singh",
      "userId": "02976406702695079389"
     },
     "user_tz": -330
    },
    "id": "70da94ac",
    "outputId": "c05a2325-1d20-4ce1-e71b-6946bbc6c77f"
   },
   "outputs": [
    {
     "name": "stdout",
     "output_type": "stream",
     "text": [
      "Label2id: {'B-problem': 0, 'B-test': 1, 'B-treatment': 2, 'I-problem': 3, 'I-test': 4, 'I-treatment': 5, 'O': 6}\n",
      "id2label: {0: 'B-problem', 1: 'B-test', 2: 'B-treatment', 3: 'I-problem', 4: 'I-test', 5: 'I-treatment', 6: 'O'}\n"
     ]
    }
   ],
   "source": [
    "# Collect unique labels and create label dictionary\n",
    "unique_labels = sorted({tag for seq in train_labels+dev_labels+test_labels for tag in seq})\n",
    "label2id = {label: i for i, label in enumerate(unique_labels)}\n",
    "id2label = {i: label for label, i in label2id.items()}\n",
    "\n",
    "print(\"Label2id:\", label2id)\n",
    "print(\"id2label:\", id2label)\n"
   ]
  },
  {
   "cell_type": "code",
   "execution_count": 37,
   "id": "9e98ae55",
   "metadata": {
    "colab": {
     "base_uri": "https://localhost:8080/",
     "height": 113,
     "referenced_widgets": [
      "b4add87223ad43d98158fbeab95b1d08",
      "b540067de1534cdbbec31d899d5c6cc7",
      "1bd47f83e7f9444c85c1e07d6c14d4e3",
      "11cd6d311a96470c9581f501ef0cca91",
      "a8572124e3fd4a6eb8262c6746564c03",
      "ef97ed1f014c42b6b5af8000524176ba",
      "38603a1843fc46a7afa16fa34747ef42",
      "c95e75e3fe154ca3a09ed8c104ec4c55",
      "f2236371d168400f99351e0a6669b964",
      "e8e312c4e0f1466ab316da845feb698d",
      "b6eb389d7c634af984ecb4af1bb7c30d",
      "6502a2f384d447e884555e7679f9b2c2",
      "0ad3c20d79794dee86209c38f1ed1d39",
      "87a19ee62be04703b976e7fcb3be7c5f",
      "87d281b1b6de4ea1903e37127b56d927",
      "799849828b31487bbc45ca28164a79f1",
      "ef194b6c14d044b9b4ca5b41ddf74c66",
      "e99ec9e52e2341638e56c94a67abb535",
      "503aaec1dd924f34821889b23cb132bc",
      "51d847a0b841461597f61dbc577d69f8",
      "7ef49a2484be4aef8b6d4c753c647756",
      "3526c995c2c743e885611f515e7df211",
      "7fe0b817123346f983fac952de39c16b",
      "8ef0bd91c9c041378a2a27f7423b37a4",
      "c565ed2a12994bbe92fa5fe95dd28aee",
      "65cb0bbac7104a79b9139afaf80cf311",
      "4f98d6cf622f4e2d9972f871824e2f3f",
      "27b3c9beada24496acab46d19a1ea7b4",
      "4f242d81f1a0497a9fdf1697f64ad10d",
      "aee7e40367d1406ebdadf9aa68472832",
      "8f71419a2bbf44319f918cf314a8480c",
      "5d8af2f9057245d1b96d5b126a8eb209",
      "89d4ece49b954c44ba852a4e235417aa"
     ]
    },
    "executionInfo": {
     "elapsed": 2103,
     "status": "ok",
     "timestamp": 1757847496336,
     "user": {
      "displayName": "Sarvesh Singh",
      "userId": "02976406702695079389"
     },
     "user_tz": -330
    },
    "id": "9e98ae55",
    "outputId": "1b12e05c-3a47-4eec-f216-eb4041980d44"
   },
   "outputs": [
    {
     "data": {
      "application/vnd.jupyter.widget-view+json": {
       "model_id": "b4add87223ad43d98158fbeab95b1d08",
       "version_major": 2,
       "version_minor": 0
      },
      "text/plain": [
       "Map:   0%|          | 0/27625 [00:00<?, ? examples/s]"
      ]
     },
     "metadata": {},
     "output_type": "display_data"
    },
    {
     "data": {
      "application/vnd.jupyter.widget-view+json": {
       "model_id": "6502a2f384d447e884555e7679f9b2c2",
       "version_major": 2,
       "version_minor": 0
      },
      "text/plain": [
       "Map:   0%|          | 0/2447 [00:00<?, ? examples/s]"
      ]
     },
     "metadata": {},
     "output_type": "display_data"
    },
    {
     "data": {
      "application/vnd.jupyter.widget-view+json": {
       "model_id": "7fe0b817123346f983fac952de39c16b",
       "version_major": 2,
       "version_minor": 0
      },
      "text/plain": [
       "Map:   0%|          | 0/50 [00:00<?, ? examples/s]"
      ]
     },
     "metadata": {},
     "output_type": "display_data"
    }
   ],
   "source": [
    "def encode_labels(example):\n",
    "    example[\"ner_tags\"] = [label2id[tag] for tag in example[\"ner_tags\"]]\n",
    "    return example\n",
    "\n",
    "dataset = dataset.map(encode_labels)"
   ]
  },
  {
   "cell_type": "code",
   "execution_count": 38,
   "id": "7f5cd814",
   "metadata": {
    "colab": {
     "base_uri": "https://localhost:8080/"
    },
    "executionInfo": {
     "elapsed": 50,
     "status": "ok",
     "timestamp": 1757847499738,
     "user": {
      "displayName": "Sarvesh Singh",
      "userId": "02976406702695079389"
     },
     "user_tz": -330
    },
    "id": "7f5cd814",
    "outputId": "2d67b4aa-9d3f-40f6-f330-18ebf9994e83"
   },
   "outputs": [
    {
     "data": {
      "text/plain": [
       "{'tokens': ['Discharge', 'Summary'], 'ner_tags': [6, 6]}"
      ]
     },
     "execution_count": 38,
     "metadata": {},
     "output_type": "execute_result"
    }
   ],
   "source": [
    "dataset[\"train\"][6]"
   ]
  },
  {
   "cell_type": "markdown",
   "id": "OLt51CuL1L56",
   "metadata": {
    "id": "OLt51CuL1L56"
   },
   "source": [
    "## Model Training"
   ]
  },
  {
   "cell_type": "markdown",
   "id": "H4dx1ZdQC5wD",
   "metadata": {
    "id": "H4dx1ZdQC5wD"
   },
   "source": [
    "**Model Justification**\n",
    "\n",
    "I have used `emilyalsentzer/Bio_ClinicalBERT` because it is pretrained on large-scale clinical notes, captures domain-specific medical language, making it more accurate and efficient than general-purpose BERT models."
   ]
  },
  {
   "cell_type": "code",
   "execution_count": 39,
   "id": "38de5fef",
   "metadata": {
    "executionInfo": {
     "elapsed": 1440,
     "status": "ok",
     "timestamp": 1757847535255,
     "user": {
      "displayName": "Sarvesh Singh",
      "userId": "02976406702695079389"
     },
     "user_tz": -330
    },
    "id": "38de5fef"
   },
   "outputs": [],
   "source": [
    "from transformers import AutoTokenizer\n",
    "\n",
    "model_checkpoint = \"emilyalsentzer/Bio_ClinicalBERT\"\n",
    "tokenizer = AutoTokenizer.from_pretrained(model_checkpoint)"
   ]
  },
  {
   "cell_type": "code",
   "execution_count": 40,
   "id": "7394e47e",
   "metadata": {
    "colab": {
     "base_uri": "https://localhost:8080/",
     "height": 113,
     "referenced_widgets": [
      "b51442b3c38a4fb18f4a0e1776713632",
      "879769c02a4548a49502ba97cad2b18a",
      "a1af548259484a54b7f290e1ebf7f984",
      "ad54c495bd31477fadffd6d47615bdd8",
      "a12877d026f842e789a34ba8d61c4a28",
      "42728ad272754885b36747ddf4f07f02",
      "97fe0783700d4586b1e886cc51728ee9",
      "56422ab214714222bc61460bce8d1769",
      "776524a6233349ed9adbfc56736a1f17",
      "ec7e191f59174462b0cb30c3ca2e2965",
      "4ef0d61b18424804869169cfaf3af3fd",
      "8ba93af4becd4383810fe8bbfe666d90",
      "212541cfe0eb44718a0bfee52431f154",
      "2e9b89daf1df47419c6a26a33a6d9b29",
      "1435e2d3ec3c48bf8ba1bccdea13d2d3",
      "5a905677e00e41a88aeea4a81d286c06",
      "4b116402176148e6ab919549c42dd514",
      "cd59d008efe449dfab310a0743ef9001",
      "7bfdde33ef434b5db6ecef612be4f3a8",
      "c01f32430c194c2392c59e4be34dca95",
      "1165eb08b206462a991b134e87082c35",
      "92b36a063a644ad28169f7027024cf42",
      "71366fff78804d73a3515d743268eb77",
      "cb67d4afd9834969bafcd83da60e6cac",
      "00f7a27bc82a49228c701a97b972ceb7",
      "6997e0f65dfc4df6a481c5011a0c558b",
      "fe16c9a7257946448a3a621dbf81133e",
      "212b8411501d496eb6a3d045634e2676",
      "51e0e610d7d8472d87c4774350bfc11f",
      "fa997566da1f4cf0a196973e1e73a374",
      "7fb7f935e0a740d6b32f635565a1d436",
      "2bacd99dcade4de098df7dfe761f1d5f",
      "8acce1b076e74987a9feaf391f122fdc"
     ]
    },
    "executionInfo": {
     "elapsed": 6072,
     "status": "ok",
     "timestamp": 1757847542646,
     "user": {
      "displayName": "Sarvesh Singh",
      "userId": "02976406702695079389"
     },
     "user_tz": -330
    },
    "id": "7394e47e",
    "outputId": "b448ad7a-1523-4615-c56f-383df3d085eb"
   },
   "outputs": [
    {
     "data": {
      "application/vnd.jupyter.widget-view+json": {
       "model_id": "b51442b3c38a4fb18f4a0e1776713632",
       "version_major": 2,
       "version_minor": 0
      },
      "text/plain": [
       "Map:   0%|          | 0/27625 [00:00<?, ? examples/s]"
      ]
     },
     "metadata": {},
     "output_type": "display_data"
    },
    {
     "data": {
      "application/vnd.jupyter.widget-view+json": {
       "model_id": "8ba93af4becd4383810fe8bbfe666d90",
       "version_major": 2,
       "version_minor": 0
      },
      "text/plain": [
       "Map:   0%|          | 0/2447 [00:00<?, ? examples/s]"
      ]
     },
     "metadata": {},
     "output_type": "display_data"
    },
    {
     "data": {
      "application/vnd.jupyter.widget-view+json": {
       "model_id": "71366fff78804d73a3515d743268eb77",
       "version_major": 2,
       "version_minor": 0
      },
      "text/plain": [
       "Map:   0%|          | 0/50 [00:00<?, ? examples/s]"
      ]
     },
     "metadata": {},
     "output_type": "display_data"
    }
   ],
   "source": [
    "# Create tokenized dataset\n",
    "def tokenize_and_align_labels(examples):\n",
    "    \"\"\"\n",
    "    Tokenizes input words and aligns their NER labels with tokens.\n",
    "\n",
    "    - The first token of each word/first sub-word keeps its label.\n",
    "    - Latter subword tokens, special tokens like ([CLS], [SEP]), and padding are assigned `-100`.\n",
    "\n",
    "    Why remaining sub-words get `-100`?\n",
    "    Trainer ignores `-100` during loss computation, so subwords don’t affect training and\n",
    "    loss gets calculated for only the relevant(first) token of each word.\n",
    "    \"\"\"\n",
    "    tokenized_inputs = tokenizer(\n",
    "        examples[\"tokens\"],\n",
    "        truncation=True,\n",
    "        is_split_into_words=True,\n",
    "        padding=\"max_length\",\n",
    "        max_length=128\n",
    "    )\n",
    "    # print(\"tokenized_inputs:\", tokenized_inputs)\n",
    "    labels = []\n",
    "    for i, label_seq in enumerate(examples[\"ner_tags\"]):\n",
    "        # print(i, label_seq)\n",
    "        # label_seq = examples[\"ner_tags\"]\n",
    "        # print(\"label_seq\", label_seq)\n",
    "        word_ids = tokenized_inputs.word_ids(batch_index=i)\n",
    "        # print(\"words_ids:\", word_ids)\n",
    "        previous_word_idx = None\n",
    "        label_ids = []\n",
    "        for word_idx in word_ids:\n",
    "            if word_idx is None:\n",
    "                label_ids.append(-100)\n",
    "            elif word_idx != previous_word_idx:\n",
    "                label_ids.append(label_seq[word_idx])\n",
    "            else:\n",
    "                # for sub-tokens: ignore\n",
    "                label_ids.append(-100)\n",
    "            previous_word_idx = word_idx\n",
    "        labels.append(label_ids)\n",
    "\n",
    "    tokenized_inputs[\"labels\"] = labels\n",
    "    return tokenized_inputs\n",
    "\n",
    "# example = dataset[\"train\"][2]\n",
    "# print(example)\n",
    "# tokenize_and_align_labels(example)\n",
    "tokenized_dataset = dataset.map(tokenize_and_align_labels, batched=True)"
   ]
  },
  {
   "cell_type": "code",
   "execution_count": 19,
   "id": "50f9c680",
   "metadata": {
    "colab": {
     "base_uri": "https://localhost:8080/",
     "height": 104,
     "referenced_widgets": [
      "5ad11f9391684f75a8959076c500426d",
      "c2bf3d75a7f44da79cfbb20991255b78",
      "97a2b9d05c27487497d6926b541a7d0c",
      "e914795b30a04eb2917d5beabeab7863",
      "60738852a5264aedb282867a8c37dbdc",
      "a13a037359d541efb3ebd618e11b4d76",
      "9dc4d5d07fd8418bbce1d1ebe7cf0fbe",
      "fd6be2a88dc041cea1ea164da6d6ea28",
      "01b5338beb79483e8cb8159dcaaa832b",
      "0f346ab451554938a04467d3e7315205",
      "4c52f32de8524350a9693022b19cc6a1"
     ]
    },
    "executionInfo": {
     "elapsed": 7567,
     "status": "ok",
     "timestamp": 1757844759303,
     "user": {
      "displayName": "Sarvesh Singh",
      "userId": "02976406702695079389"
     },
     "user_tz": -330
    },
    "id": "50f9c680",
    "outputId": "1d8ed503-3919-4d03-ecd9-077e3e8cfda1"
   },
   "outputs": [
    {
     "data": {
      "application/vnd.jupyter.widget-view+json": {
       "model_id": "5ad11f9391684f75a8959076c500426d",
       "version_major": 2,
       "version_minor": 0
      },
      "text/plain": [
       "pytorch_model.bin:   0%|          | 0.00/436M [00:00<?, ?B/s]"
      ]
     },
     "metadata": {},
     "output_type": "display_data"
    },
    {
     "name": "stderr",
     "output_type": "stream",
     "text": [
      "Some weights of BertForTokenClassification were not initialized from the model checkpoint at emilyalsentzer/Bio_ClinicalBERT and are newly initialized: ['classifier.bias', 'classifier.weight']\n",
      "You should probably TRAIN this model on a down-stream task to be able to use it for predictions and inference.\n"
     ]
    }
   ],
   "source": [
    "from transformers import AutoModelForTokenClassification\n",
    "\n",
    "model = AutoModelForTokenClassification.from_pretrained(\n",
    "    model_checkpoint,\n",
    "    num_labels=len(label2id),\n",
    "    id2label=id2label,\n",
    "    label2id=label2id\n",
    ")"
   ]
  },
  {
   "cell_type": "code",
   "execution_count": 20,
   "id": "xdjHNM7OV6By",
   "metadata": {
    "colab": {
     "base_uri": "https://localhost:8080/"
    },
    "collapsed": true,
    "executionInfo": {
     "elapsed": 11315,
     "status": "ok",
     "timestamp": 1757844785748,
     "user": {
      "displayName": "Sarvesh Singh",
      "userId": "02976406702695079389"
     },
     "user_tz": -330
    },
    "id": "xdjHNM7OV6By",
    "outputId": "be072ba1-0f45-4e7c-e85a-2292a52a72d9"
   },
   "outputs": [
    {
     "name": "stdout",
     "output_type": "stream",
     "text": [
      "Collecting seqeval\n",
      "  Downloading seqeval-1.2.2.tar.gz (43 kB)\n",
      "\u001b[?25l     \u001b[90m━━━━━━━━━━━━━━━━━━━━━━━━━━━━━━━━━━━━━━━━\u001b[0m \u001b[32m0.0/43.6 kB\u001b[0m \u001b[31m?\u001b[0m eta \u001b[36m-:--:--\u001b[0m\r\u001b[2K     \u001b[90m━━━━━━━━━━━━━━━━━━━━━━━━━━━━━━━━━━━━━━━━\u001b[0m \u001b[32m43.6/43.6 kB\u001b[0m \u001b[31m4.4 MB/s\u001b[0m eta \u001b[36m0:00:00\u001b[0m\n",
      "\u001b[?25h  Preparing metadata (setup.py) ... \u001b[?25l\u001b[?25hdone\n",
      "Requirement already satisfied: numpy>=1.14.0 in /usr/local/lib/python3.12/dist-packages (from seqeval) (2.0.2)\n",
      "Requirement already satisfied: scikit-learn>=0.21.3 in /usr/local/lib/python3.12/dist-packages (from seqeval) (1.6.1)\n",
      "Requirement already satisfied: scipy>=1.6.0 in /usr/local/lib/python3.12/dist-packages (from scikit-learn>=0.21.3->seqeval) (1.16.1)\n",
      "Requirement already satisfied: joblib>=1.2.0 in /usr/local/lib/python3.12/dist-packages (from scikit-learn>=0.21.3->seqeval) (1.5.2)\n",
      "Requirement already satisfied: threadpoolctl>=3.1.0 in /usr/local/lib/python3.12/dist-packages (from scikit-learn>=0.21.3->seqeval) (3.6.0)\n",
      "Building wheels for collected packages: seqeval\n",
      "  Building wheel for seqeval (setup.py) ... \u001b[?25l\u001b[?25hdone\n",
      "  Created wheel for seqeval: filename=seqeval-1.2.2-py3-none-any.whl size=16162 sha256=054285ed6204f7edddc97a1aada0b564bad9f51c273beca082b9263d4744322a\n",
      "  Stored in directory: /root/.cache/pip/wheels/5f/b8/73/0b2c1a76b701a677653dd79ece07cfabd7457989dbfbdcd8d7\n",
      "Successfully built seqeval\n",
      "Installing collected packages: seqeval\n",
      "Successfully installed seqeval-1.2.2\n"
     ]
    }
   ],
   "source": [
    "%pip install seqeval"
   ]
  },
  {
   "cell_type": "code",
   "execution_count": 21,
   "id": "16364ab2",
   "metadata": {
    "executionInfo": {
     "elapsed": 26,
     "status": "ok",
     "timestamp": 1757844785778,
     "user": {
      "displayName": "Sarvesh Singh",
      "userId": "02976406702695079389"
     },
     "user_tz": -330
    },
    "id": "16364ab2"
   },
   "outputs": [],
   "source": [
    "# Defining Metrics to Compute for evaluation\n",
    "import numpy as np\n",
    "from seqeval.metrics import precision_score, recall_score, f1_score, classification_report\n",
    "\n",
    "def compute_metrics(p):\n",
    "    predictions, labels = p\n",
    "    predictions = np.argmax(predictions, axis=2)\n",
    "\n",
    "    # Convert predictions and labels to lists of labels (remove -100)\n",
    "    true_labels = []\n",
    "    true_predictions = []\n",
    "\n",
    "    for pred, lab in zip(predictions, labels):\n",
    "        curr_labels = []\n",
    "        curr_preds = []\n",
    "        for p_i, l_i in zip(pred, lab):\n",
    "            if l_i != -100:  # skip ignored tokens\n",
    "                curr_labels.append(id2label[l_i])\n",
    "                curr_preds.append(id2label[p_i])\n",
    "        true_labels.append(curr_labels)\n",
    "        true_predictions.append(curr_preds)\n",
    "\n",
    "    return {\n",
    "        \"precision\": precision_score(true_labels, true_predictions),\n",
    "        \"recall\": recall_score(true_labels, true_predictions),\n",
    "        \"f1\": f1_score(true_labels, true_predictions),\n",
    "    }\n"
   ]
  },
  {
   "cell_type": "code",
   "execution_count": 23,
   "id": "ecdf4f13",
   "metadata": {
    "colab": {
     "base_uri": "https://localhost:8080/"
    },
    "executionInfo": {
     "elapsed": 34,
     "status": "ok",
     "timestamp": 1757844962912,
     "user": {
      "displayName": "Sarvesh Singh",
      "userId": "02976406702695079389"
     },
     "user_tz": -330
    },
    "id": "ecdf4f13",
    "outputId": "9ef28063-6246-40da-bf59-1943e51d9c4b"
   },
   "outputs": [
    {
     "name": "stderr",
     "output_type": "stream",
     "text": [
      "/tmp/ipython-input-1820906210.py:20: FutureWarning: `tokenizer` is deprecated and will be removed in version 5.0.0 for `Trainer.__init__`. Use `processing_class` instead.\n",
      "  trainer = Trainer(\n"
     ]
    }
   ],
   "source": [
    "from transformers import TrainingArguments, Trainer\n",
    "from transformers import DataCollatorForTokenClassification\n",
    "\n",
    "data_collator = DataCollatorForTokenClassification(tokenizer=tokenizer)\n",
    "\n",
    "training_args = TrainingArguments(\n",
    "    output_dir=\"../models\",\n",
    "    eval_strategy=\"epoch\",\n",
    "    save_strategy=\"epoch\",\n",
    "    learning_rate=2e-5,\n",
    "    per_device_train_batch_size=16,\n",
    "    per_device_eval_batch_size=16,\n",
    "    num_train_epochs=3,\n",
    "    weight_decay=0.01,\n",
    "    logging_dir=\"../logs\",\n",
    "    logging_steps=50,\n",
    "    report_to=\"none\"\n",
    ")\n",
    "\n",
    "trainer = Trainer(\n",
    "    model=model,\n",
    "    args=training_args,\n",
    "    train_dataset=tokenized_dataset[\"train\"],\n",
    "    eval_dataset=tokenized_dataset[\"validation\"],\n",
    "    tokenizer=tokenizer,\n",
    "    data_collator=data_collator,\n",
    "    compute_metrics=compute_metrics\n",
    ")"
   ]
  },
  {
   "cell_type": "code",
   "execution_count": 24,
   "id": "aa3295fa",
   "metadata": {
    "colab": {
     "base_uri": "https://localhost:8080/",
     "height": 221
    },
    "executionInfo": {
     "elapsed": 1810199,
     "status": "ok",
     "timestamp": 1757846776964,
     "user": {
      "displayName": "Sarvesh Singh",
      "userId": "02976406702695079389"
     },
     "user_tz": -330
    },
    "id": "aa3295fa",
    "outputId": "22e8e7cc-c4de-404c-c2e1-0dbc15e24adc"
   },
   "outputs": [
    {
     "data": {
      "text/html": [
       "\n",
       "    <div>\n",
       "      \n",
       "      <progress value='5181' max='5181' style='width:300px; height:20px; vertical-align: middle;'></progress>\n",
       "      [5181/5181 30:08, Epoch 3/3]\n",
       "    </div>\n",
       "    <table border=\"1\" class=\"dataframe\">\n",
       "  <thead>\n",
       " <tr style=\"text-align: left;\">\n",
       "      <th>Epoch</th>\n",
       "      <th>Training Loss</th>\n",
       "      <th>Validation Loss</th>\n",
       "      <th>Precision</th>\n",
       "      <th>Recall</th>\n",
       "      <th>F1</th>\n",
       "    </tr>\n",
       "  </thead>\n",
       "  <tbody>\n",
       "    <tr>\n",
       "      <td>1</td>\n",
       "      <td>0.108400</td>\n",
       "      <td>0.133080</td>\n",
       "      <td>0.833942</td>\n",
       "      <td>0.869234</td>\n",
       "      <td>0.851222</td>\n",
       "    </tr>\n",
       "    <tr>\n",
       "      <td>2</td>\n",
       "      <td>0.055300</td>\n",
       "      <td>0.145806</td>\n",
       "      <td>0.838886</td>\n",
       "      <td>0.873990</td>\n",
       "      <td>0.856078</td>\n",
       "    </tr>\n",
       "    <tr>\n",
       "      <td>3</td>\n",
       "      <td>0.038100</td>\n",
       "      <td>0.162938</td>\n",
       "      <td>0.839726</td>\n",
       "      <td>0.874465</td>\n",
       "      <td>0.856744</td>\n",
       "    </tr>\n",
       "  </tbody>\n",
       "</table><p>"
      ],
      "text/plain": [
       "<IPython.core.display.HTML object>"
      ]
     },
     "metadata": {},
     "output_type": "display_data"
    },
    {
     "data": {
      "text/plain": [
       "TrainOutput(global_step=5181, training_loss=0.09425786116297608, metrics={'train_runtime': 1810.1403, 'train_samples_per_second': 45.784, 'train_steps_per_second': 2.862, 'total_flos': 5413986905184000.0, 'train_loss': 0.09425786116297608, 'epoch': 3.0})"
      ]
     },
     "execution_count": 24,
     "metadata": {},
     "output_type": "execute_result"
    }
   ],
   "source": [
    "trainer.train()"
   ]
  },
  {
   "cell_type": "markdown",
   "id": "8KxHi_o03XjU",
   "metadata": {
    "id": "8KxHi_o03XjU"
   },
   "source": [
    "## Overall Evaluation"
   ]
  },
  {
   "cell_type": "code",
   "execution_count": 25,
   "id": "S2r-gRE4ZQEU",
   "metadata": {
    "colab": {
     "base_uri": "https://localhost:8080/",
     "height": 176
    },
    "executionInfo": {
     "elapsed": 18368,
     "status": "ok",
     "timestamp": 1757847174196,
     "user": {
      "displayName": "Sarvesh Singh",
      "userId": "02976406702695079389"
     },
     "user_tz": -330
    },
    "id": "S2r-gRE4ZQEU",
    "outputId": "42b9c68b-9953-4016-b4ba-432f7c8a67c1"
   },
   "outputs": [
    {
     "data": {
      "text/html": [
       "\n",
       "    <div>\n",
       "      \n",
       "      <progress value='153' max='153' style='width:300px; height:20px; vertical-align: middle;'></progress>\n",
       "      [153/153 00:18]\n",
       "    </div>\n",
       "    "
      ],
      "text/plain": [
       "<IPython.core.display.HTML object>"
      ]
     },
     "metadata": {},
     "output_type": "display_data"
    },
    {
     "data": {
      "text/plain": [
       "{'eval_loss': 0.16293832659721375,\n",
       " 'eval_precision': 0.8397260273972603,\n",
       " 'eval_recall': 0.8744650499286734,\n",
       " 'eval_f1': 0.856743535988819,\n",
       " 'eval_runtime': 18.3512,\n",
       " 'eval_samples_per_second': 133.343,\n",
       " 'eval_steps_per_second': 8.337,\n",
       " 'epoch': 3.0}"
      ]
     },
     "execution_count": 25,
     "metadata": {},
     "output_type": "execute_result"
    }
   ],
   "source": [
    "# Overall\n",
    "trainer.evaluate()\n"
   ]
  },
  {
   "cell_type": "markdown",
   "id": "2PU17cA-ckrG",
   "metadata": {
    "id": "2PU17cA-ckrG"
   },
   "source": [
    "## Entity Level Metrics Evaluation"
   ]
  },
  {
   "cell_type": "code",
   "execution_count": 26,
   "id": "A-QtVH-qbYLx",
   "metadata": {
    "executionInfo": {
     "elapsed": 11,
     "status": "ok",
     "timestamp": 1757847183104,
     "user": {
      "displayName": "Sarvesh Singh",
      "userId": "02976406702695079389"
     },
     "user_tz": -330
    },
    "id": "A-QtVH-qbYLx"
   },
   "outputs": [],
   "source": [
    "import numpy as np\n",
    "def get_true_label_true_preds(predictions_output):\n",
    "  predictions = np.argmax(predictions_output.predictions, axis=2)\n",
    "  labels = predictions_output.label_ids\n",
    "\n",
    "  true_labels = []\n",
    "  true_predictions = []\n",
    "\n",
    "  for pred_seq, label_seq in zip(predictions, labels):\n",
    "      curr_labels = []\n",
    "      curr_preds = []\n",
    "      for p, l in zip(pred_seq, label_seq):\n",
    "          if l != -100:  # ignore padding tokens\n",
    "              curr_labels.append(id2label[l])\n",
    "              curr_preds.append(id2label[p])\n",
    "      true_labels.append(curr_labels)\n",
    "      true_predictions.append(curr_preds)\n",
    "\n",
    "  return true_labels, true_predictions\n"
   ]
  },
  {
   "cell_type": "code",
   "execution_count": null,
   "id": "s978esIWbiYI",
   "metadata": {
    "colab": {
     "base_uri": "https://localhost:8080/",
     "height": 191
    },
    "executionInfo": {
     "elapsed": 21913,
     "status": "ok",
     "timestamp": 1757847208758,
     "user": {
      "displayName": "Sarvesh Singh",
      "userId": "02976406702695079389"
     },
     "user_tz": -330
    },
    "id": "s978esIWbiYI",
    "outputId": "0290fbc6-8ba5-442e-f8a8-27199d636539"
   },
   "outputs": [
    {
     "data": {
      "text/html": [],
      "text/plain": [
       "<IPython.core.display.HTML object>"
      ]
     },
     "metadata": {},
     "output_type": "display_data"
    },
    {
     "name": "stdout",
     "output_type": "stream",
     "text": [
      "              precision    recall  f1-score   support\n",
      "\n",
      "     problem       0.84      0.86      0.85       988\n",
      "        test       0.86      0.90      0.88       504\n",
      "   treatment       0.82      0.87      0.85       611\n",
      "\n",
      "   micro avg       0.84      0.87      0.86      2103\n",
      "   macro avg       0.84      0.88      0.86      2103\n",
      "weighted avg       0.84      0.87      0.86      2103\n",
      "\n"
     ]
    }
   ],
   "source": [
    "# Run prediction on validation dataset\n",
    "predictions_output = trainer.predict(tokenized_dataset[\"validation\"])\n",
    "\n",
    "true_labels, true_predictions = get_true_label_true_preds(predictions_output)\n",
    "\n",
    "report = classification_report(true_labels, true_predictions)\n",
    "print(report)"
   ]
  },
  {
   "cell_type": "markdown",
   "id": "UPmKqdqo3HAz",
   "metadata": {
    "id": "UPmKqdqo3HAz"
   },
   "source": [
    "## Load and Test Model"
   ]
  },
  {
   "cell_type": "code",
   "execution_count": 58,
   "id": "ni7HEI5IcwAW",
   "metadata": {
    "colab": {
     "base_uri": "https://localhost:8080/"
    },
    "executionInfo": {
     "elapsed": 1169,
     "status": "ok",
     "timestamp": 1757848852401,
     "user": {
      "displayName": "Sarvesh Singh",
      "userId": "02976406702695079389"
     },
     "user_tz": -330
    },
    "id": "ni7HEI5IcwAW",
    "outputId": "2ac5f024-7a15-42ff-939f-2af7846495ac"
   },
   "outputs": [
    {
     "name": "stderr",
     "output_type": "stream",
     "text": [
      "/tmp/ipython-input-505719573.py:11: FutureWarning: `tokenizer` is deprecated and will be removed in version 5.0.0 for `Trainer.__init__`. Use `processing_class` instead.\n",
      "  loaded_trainer = Trainer(model=loaded_model, tokenizer=loaded_tokenizer, args=TrainingArguments(report_to=\"none\"))\n"
     ]
    }
   ],
   "source": [
    "from transformers import BertForTokenClassification, BertTokenizerFast, Trainer\n",
    "\n",
    "# path where Trainer saved your model (change to your actual path)\n",
    "model_path = \"../models/checkpoint-3454\"\n",
    "\n",
    "# reload tokenizer and model\n",
    "loaded_tokenizer = BertTokenizerFast.from_pretrained(model_path)\n",
    "loaded_model = BertForTokenClassification.from_pretrained(model_path)\n",
    "\n",
    "# reinitialize trainer for evaluation\n",
    "loaded_trainer = Trainer(model=loaded_model, tokenizer=loaded_tokenizer, args=TrainingArguments(report_to=\"none\"))\n"
   ]
  },
  {
   "cell_type": "code",
   "execution_count": 59,
   "id": "eDyMqSlF28Kd",
   "metadata": {
    "colab": {
     "base_uri": "https://localhost:8080/",
     "height": 191
    },
    "executionInfo": {
     "elapsed": 602,
     "status": "ok",
     "timestamp": 1757848855592,
     "user": {
      "displayName": "Sarvesh Singh",
      "userId": "02976406702695079389"
     },
     "user_tz": -330
    },
    "id": "eDyMqSlF28Kd",
    "outputId": "2d58b79e-b2ce-41c5-9146-7050d6217f6c"
   },
   "outputs": [
    {
     "data": {
      "text/html": [],
      "text/plain": [
       "<IPython.core.display.HTML object>"
      ]
     },
     "metadata": {},
     "output_type": "display_data"
    },
    {
     "name": "stdout",
     "output_type": "stream",
     "text": [
      "              precision    recall  f1-score   support\n",
      "\n",
      "     problem       0.79      0.86      0.82        43\n",
      "        test       0.96      0.83      0.89        53\n",
      "   treatment       1.00      1.00      1.00         2\n",
      "\n",
      "   micro avg       0.87      0.85      0.86        98\n",
      "   macro avg       0.91      0.90      0.90        98\n",
      "weighted avg       0.88      0.85      0.86        98\n",
      "\n"
     ]
    }
   ],
   "source": [
    "metrics = loaded_trainer.predict(tokenized_dataset[\"test\"])\n",
    "true_labels, true_predictions = get_true_label_true_preds(metrics)\n",
    "\n",
    "print(classification_report(true_labels, true_predictions))"
   ]
  },
  {
   "cell_type": "code",
   "execution_count": 105,
   "id": "WfXcAIJM5Oia",
   "metadata": {
    "colab": {
     "base_uri": "https://localhost:8080/"
    },
    "executionInfo": {
     "elapsed": 26,
     "status": "ok",
     "timestamp": 1757852291477,
     "user": {
      "displayName": "Sarvesh Singh",
      "userId": "02976406702695079389"
     },
     "user_tz": -330
    },
    "id": "WfXcAIJM5Oia",
    "outputId": "012202d2-90e5-4288-8472-2d25f330f5ed"
   },
   "outputs": [
    {
     "name": "stdout",
     "output_type": "stream",
     "text": [
      "Problems: ['pneumonia']\n",
      "Treatments: []\n",
      "Tests: ['ct scan of the chest']\n",
      "\n",
      "c               B-test\n",
      "##t             I-test\n",
      "scan            I-test\n",
      "of              I-test\n",
      "the             I-test\n",
      "chest           I-test\n",
      "showed          O\n",
      "signs           O\n",
      "of              O\n",
      "pneumonia       B-problem\n",
      ".               O\n"
     ]
    }
   ],
   "source": [
    "import torch\n",
    "\n",
    "def get_entities(prediction):\n",
    "    # Group Entities\n",
    "    entities = {\"PROBLEM\": [], \"TREATMENT\": [], \"TEST\": []}\n",
    "\n",
    "    current_entity = []\n",
    "    current_label = None\n",
    "\n",
    "    for token, label in prediction:\n",
    "        if token in [\"[CLS]\", \"[SEP]\", \"[PAD]\"]:\n",
    "            continue\n",
    "\n",
    "        entity = label.split(\"-\")[-1].upper()\n",
    "        if entity in entities:\n",
    "            clean_token = token.replace(\"##\", \"\")  # handle subwords\n",
    "            if current_label == entity:\n",
    "                # continuing the same entity\n",
    "                # if it's a subword, append directly without space\n",
    "                if token.startswith(\"##\"):\n",
    "                    current_entity[-1] = current_entity[-1] + clean_token\n",
    "                else:\n",
    "                    current_entity.append(clean_token)\n",
    "            else:\n",
    "                # save previous entity\n",
    "                if current_entity and current_label:\n",
    "                    entities[current_label].append(\" \".join(current_entity))\n",
    "                # start new entity\n",
    "                current_entity = [clean_token]\n",
    "                current_label = entity\n",
    "        else:\n",
    "            # save previous entity when label ends\n",
    "            if current_entity and current_label:\n",
    "                entities[current_label].append(\" \".join(current_entity))\n",
    "                current_entity, current_label = [], None\n",
    "\n",
    "    # save last entity\n",
    "    if current_entity and current_label:\n",
    "        entities[current_label].append(\" \".join(current_entity))\n",
    "\n",
    "    return entities\n",
    "\n",
    "def predict_entities(text):\n",
    "    # tokenize with alignment\n",
    "    tokens = loaded_tokenizer(text.split(),\n",
    "                       truncation=True,\n",
    "                       is_split_into_words=True,\n",
    "                       return_tensors=\"pt\")\n",
    "\n",
    "    # Move tokens to the same device as the model\n",
    "    device = loaded_model.device\n",
    "    tokens = {key: value.to(device) for key, value in tokens.items()}\n",
    "\n",
    "    with torch.no_grad():\n",
    "        output = loaded_model(**tokens)\n",
    "\n",
    "    predictions = torch.argmax(output.logits, dim=2)\n",
    "\n",
    "    predicted_labels = [id2label[p.item()] for p in predictions[0]]\n",
    "    tokens_out = loaded_tokenizer.convert_ids_to_tokens(tokens[\"input_ids\"][0])\n",
    "\n",
    "    results = [(tok, lab) for tok, lab in zip(tokens_out, predicted_labels)\n",
    "               if tok not in [\"[CLS]\", \"[SEP]\", \"[PAD]\"]]\n",
    "\n",
    "    entities = get_entities(results)\n",
    "    return results, entities\n",
    "\n",
    "# Examples\n",
    "# note = \"Patient was prescribed aspirin for chest pain.\"\n",
    "# note = \"Patient was prescribed aspirin for chest pain and headache.\"\n",
    "# note = \"The patient was given ibuprofen for fever and sore throat.\"\n",
    "note = \"CT scan of the chest showed signs of pneumonia.\"\n",
    "\n",
    "prediction, entities = predict_entities(note)\n",
    "\n",
    "# Entity Level Results\n",
    "print(\"Problems:\", entities[\"PROBLEM\"])\n",
    "print(\"Treatments:\", entities[\"TREATMENT\"])\n",
    "print(\"Tests:\", entities[\"TEST\"])\n",
    "print()\n",
    "\n",
    "# Token Level Results\n",
    "for token, label in prediction:\n",
    "    print(f\"{token:<15} {label}\")"
   ]
  },
  {
   "cell_type": "markdown",
   "id": "YkEE9L2hIQgP",
   "metadata": {
    "id": "YkEE9L2hIQgP"
   },
   "source": [
    "## Error Analysis"
   ]
  },
  {
   "cell_type": "code",
   "execution_count": 102,
   "id": "wEuoLpdFF94B",
   "metadata": {
    "colab": {
     "base_uri": "https://localhost:8080/",
     "height": 206
    },
    "collapsed": true,
    "executionInfo": {
     "elapsed": 62,
     "status": "ok",
     "timestamp": 1757852239150,
     "user": {
      "displayName": "Sarvesh Singh",
      "userId": "02976406702695079389"
     },
     "user_tz": -330
    },
    "id": "wEuoLpdFF94B",
    "outputId": "e1097de6-1e87-499d-b576-acf27f188b81"
   },
   "outputs": [
    {
     "data": {
      "application/vnd.google.colaboratory.intrinsic+json": {
       "summary": "{\n  \"name\": \"df_errors\",\n  \"rows\": 50,\n  \"fields\": [\n    {\n      \"column\": \"sample_id\",\n      \"properties\": {\n        \"dtype\": \"number\",\n        \"std\": 9,\n        \"min\": 4,\n        \"max\": 47,\n        \"num_unique_values\": 14,\n        \"samples\": [\n          37,\n          42,\n          4\n        ],\n        \"semantic_type\": \"\",\n        \"description\": \"\"\n      }\n    },\n    {\n      \"column\": \"token\",\n      \"properties\": {\n        \"dtype\": \"string\",\n        \"num_unique_values\": 35,\n        \"samples\": [\n          \"p\",\n          \"of\",\n          \"par\"\n        ],\n        \"semantic_type\": \"\",\n        \"description\": \"\"\n      }\n    },\n    {\n      \"column\": \"true_label\",\n      \"properties\": {\n        \"dtype\": \"category\",\n        \"num_unique_values\": 5,\n        \"samples\": [\n          \"O\",\n          \"B-problem\",\n          \"B-test\"\n        ],\n        \"semantic_type\": \"\",\n        \"description\": \"\"\n      }\n    },\n    {\n      \"column\": \"pred_label\",\n      \"properties\": {\n        \"dtype\": \"category\",\n        \"num_unique_values\": 4,\n        \"samples\": [\n          \"B-problem\",\n          \"I-problem\",\n          \"O\"\n        ],\n        \"semantic_type\": \"\",\n        \"description\": \"\"\n      }\n    }\n  ]\n}",
       "type": "dataframe",
       "variable_name": "df_errors"
      },
      "text/html": [
       "\n",
       "  <div id=\"df-8cb52f3d-c6f1-41fc-b69f-12848dddea02\" class=\"colab-df-container\">\n",
       "    <div>\n",
       "<style scoped>\n",
       "    .dataframe tbody tr th:only-of-type {\n",
       "        vertical-align: middle;\n",
       "    }\n",
       "\n",
       "    .dataframe tbody tr th {\n",
       "        vertical-align: top;\n",
       "    }\n",
       "\n",
       "    .dataframe thead th {\n",
       "        text-align: right;\n",
       "    }\n",
       "</style>\n",
       "<table border=\"1\" class=\"dataframe\">\n",
       "  <thead>\n",
       "    <tr style=\"text-align: right;\">\n",
       "      <th></th>\n",
       "      <th>sample_id</th>\n",
       "      <th>token</th>\n",
       "      <th>true_label</th>\n",
       "      <th>pred_label</th>\n",
       "    </tr>\n",
       "  </thead>\n",
       "  <tbody>\n",
       "    <tr>\n",
       "      <th>0</th>\n",
       "      <td>4</td>\n",
       "      <td>and</td>\n",
       "      <td>I-problem</td>\n",
       "      <td>O</td>\n",
       "    </tr>\n",
       "    <tr>\n",
       "      <th>1</th>\n",
       "      <td>4</td>\n",
       "      <td>numb</td>\n",
       "      <td>I-problem</td>\n",
       "      <td>B-problem</td>\n",
       "    </tr>\n",
       "    <tr>\n",
       "      <th>2</th>\n",
       "      <td>16</td>\n",
       "      <td>g</td>\n",
       "      <td>O</td>\n",
       "      <td>B-test</td>\n",
       "    </tr>\n",
       "    <tr>\n",
       "      <th>3</th>\n",
       "      <td>17</td>\n",
       "      <td>,</td>\n",
       "      <td>I-problem</td>\n",
       "      <td>O</td>\n",
       "    </tr>\n",
       "    <tr>\n",
       "      <th>4</th>\n",
       "      <td>21</td>\n",
       "      <td>diminished</td>\n",
       "      <td>O</td>\n",
       "      <td>B-problem</td>\n",
       "    </tr>\n",
       "  </tbody>\n",
       "</table>\n",
       "</div>\n",
       "    <div class=\"colab-df-buttons\">\n",
       "\n",
       "  <div class=\"colab-df-container\">\n",
       "    <button class=\"colab-df-convert\" onclick=\"convertToInteractive('df-8cb52f3d-c6f1-41fc-b69f-12848dddea02')\"\n",
       "            title=\"Convert this dataframe to an interactive table.\"\n",
       "            style=\"display:none;\">\n",
       "\n",
       "  <svg xmlns=\"http://www.w3.org/2000/svg\" height=\"24px\" viewBox=\"0 -960 960 960\">\n",
       "    <path d=\"M120-120v-720h720v720H120Zm60-500h600v-160H180v160Zm220 220h160v-160H400v160Zm0 220h160v-160H400v160ZM180-400h160v-160H180v160Zm440 0h160v-160H620v160ZM180-180h160v-160H180v160Zm440 0h160v-160H620v160Z\"/>\n",
       "  </svg>\n",
       "    </button>\n",
       "\n",
       "  <style>\n",
       "    .colab-df-container {\n",
       "      display:flex;\n",
       "      gap: 12px;\n",
       "    }\n",
       "\n",
       "    .colab-df-convert {\n",
       "      background-color: #E8F0FE;\n",
       "      border: none;\n",
       "      border-radius: 50%;\n",
       "      cursor: pointer;\n",
       "      display: none;\n",
       "      fill: #1967D2;\n",
       "      height: 32px;\n",
       "      padding: 0 0 0 0;\n",
       "      width: 32px;\n",
       "    }\n",
       "\n",
       "    .colab-df-convert:hover {\n",
       "      background-color: #E2EBFA;\n",
       "      box-shadow: 0px 1px 2px rgba(60, 64, 67, 0.3), 0px 1px 3px 1px rgba(60, 64, 67, 0.15);\n",
       "      fill: #174EA6;\n",
       "    }\n",
       "\n",
       "    .colab-df-buttons div {\n",
       "      margin-bottom: 4px;\n",
       "    }\n",
       "\n",
       "    [theme=dark] .colab-df-convert {\n",
       "      background-color: #3B4455;\n",
       "      fill: #D2E3FC;\n",
       "    }\n",
       "\n",
       "    [theme=dark] .colab-df-convert:hover {\n",
       "      background-color: #434B5C;\n",
       "      box-shadow: 0px 1px 3px 1px rgba(0, 0, 0, 0.15);\n",
       "      filter: drop-shadow(0px 1px 2px rgba(0, 0, 0, 0.3));\n",
       "      fill: #FFFFFF;\n",
       "    }\n",
       "  </style>\n",
       "\n",
       "    <script>\n",
       "      const buttonEl =\n",
       "        document.querySelector('#df-8cb52f3d-c6f1-41fc-b69f-12848dddea02 button.colab-df-convert');\n",
       "      buttonEl.style.display =\n",
       "        google.colab.kernel.accessAllowed ? 'block' : 'none';\n",
       "\n",
       "      async function convertToInteractive(key) {\n",
       "        const element = document.querySelector('#df-8cb52f3d-c6f1-41fc-b69f-12848dddea02');\n",
       "        const dataTable =\n",
       "          await google.colab.kernel.invokeFunction('convertToInteractive',\n",
       "                                                    [key], {});\n",
       "        if (!dataTable) return;\n",
       "\n",
       "        const docLinkHtml = 'Like what you see? Visit the ' +\n",
       "          '<a target=\"_blank\" href=https://colab.research.google.com/notebooks/data_table.ipynb>data table notebook</a>'\n",
       "          + ' to learn more about interactive tables.';\n",
       "        element.innerHTML = '';\n",
       "        dataTable['output_type'] = 'display_data';\n",
       "        await google.colab.output.renderOutput(dataTable, element);\n",
       "        const docLink = document.createElement('div');\n",
       "        docLink.innerHTML = docLinkHtml;\n",
       "        element.appendChild(docLink);\n",
       "      }\n",
       "    </script>\n",
       "  </div>\n",
       "\n",
       "\n",
       "    <div id=\"df-7a39f940-3afb-44ff-9070-1f4893427b55\">\n",
       "      <button class=\"colab-df-quickchart\" onclick=\"quickchart('df-7a39f940-3afb-44ff-9070-1f4893427b55')\"\n",
       "                title=\"Suggest charts\"\n",
       "                style=\"display:none;\">\n",
       "\n",
       "<svg xmlns=\"http://www.w3.org/2000/svg\" height=\"24px\"viewBox=\"0 0 24 24\"\n",
       "     width=\"24px\">\n",
       "    <g>\n",
       "        <path d=\"M19 3H5c-1.1 0-2 .9-2 2v14c0 1.1.9 2 2 2h14c1.1 0 2-.9 2-2V5c0-1.1-.9-2-2-2zM9 17H7v-7h2v7zm4 0h-2V7h2v10zm4 0h-2v-4h2v4z\"/>\n",
       "    </g>\n",
       "</svg>\n",
       "      </button>\n",
       "\n",
       "<style>\n",
       "  .colab-df-quickchart {\n",
       "      --bg-color: #E8F0FE;\n",
       "      --fill-color: #1967D2;\n",
       "      --hover-bg-color: #E2EBFA;\n",
       "      --hover-fill-color: #174EA6;\n",
       "      --disabled-fill-color: #AAA;\n",
       "      --disabled-bg-color: #DDD;\n",
       "  }\n",
       "\n",
       "  [theme=dark] .colab-df-quickchart {\n",
       "      --bg-color: #3B4455;\n",
       "      --fill-color: #D2E3FC;\n",
       "      --hover-bg-color: #434B5C;\n",
       "      --hover-fill-color: #FFFFFF;\n",
       "      --disabled-bg-color: #3B4455;\n",
       "      --disabled-fill-color: #666;\n",
       "  }\n",
       "\n",
       "  .colab-df-quickchart {\n",
       "    background-color: var(--bg-color);\n",
       "    border: none;\n",
       "    border-radius: 50%;\n",
       "    cursor: pointer;\n",
       "    display: none;\n",
       "    fill: var(--fill-color);\n",
       "    height: 32px;\n",
       "    padding: 0;\n",
       "    width: 32px;\n",
       "  }\n",
       "\n",
       "  .colab-df-quickchart:hover {\n",
       "    background-color: var(--hover-bg-color);\n",
       "    box-shadow: 0 1px 2px rgba(60, 64, 67, 0.3), 0 1px 3px 1px rgba(60, 64, 67, 0.15);\n",
       "    fill: var(--button-hover-fill-color);\n",
       "  }\n",
       "\n",
       "  .colab-df-quickchart-complete:disabled,\n",
       "  .colab-df-quickchart-complete:disabled:hover {\n",
       "    background-color: var(--disabled-bg-color);\n",
       "    fill: var(--disabled-fill-color);\n",
       "    box-shadow: none;\n",
       "  }\n",
       "\n",
       "  .colab-df-spinner {\n",
       "    border: 2px solid var(--fill-color);\n",
       "    border-color: transparent;\n",
       "    border-bottom-color: var(--fill-color);\n",
       "    animation:\n",
       "      spin 1s steps(1) infinite;\n",
       "  }\n",
       "\n",
       "  @keyframes spin {\n",
       "    0% {\n",
       "      border-color: transparent;\n",
       "      border-bottom-color: var(--fill-color);\n",
       "      border-left-color: var(--fill-color);\n",
       "    }\n",
       "    20% {\n",
       "      border-color: transparent;\n",
       "      border-left-color: var(--fill-color);\n",
       "      border-top-color: var(--fill-color);\n",
       "    }\n",
       "    30% {\n",
       "      border-color: transparent;\n",
       "      border-left-color: var(--fill-color);\n",
       "      border-top-color: var(--fill-color);\n",
       "      border-right-color: var(--fill-color);\n",
       "    }\n",
       "    40% {\n",
       "      border-color: transparent;\n",
       "      border-right-color: var(--fill-color);\n",
       "      border-top-color: var(--fill-color);\n",
       "    }\n",
       "    60% {\n",
       "      border-color: transparent;\n",
       "      border-right-color: var(--fill-color);\n",
       "    }\n",
       "    80% {\n",
       "      border-color: transparent;\n",
       "      border-right-color: var(--fill-color);\n",
       "      border-bottom-color: var(--fill-color);\n",
       "    }\n",
       "    90% {\n",
       "      border-color: transparent;\n",
       "      border-bottom-color: var(--fill-color);\n",
       "    }\n",
       "  }\n",
       "</style>\n",
       "\n",
       "      <script>\n",
       "        async function quickchart(key) {\n",
       "          const quickchartButtonEl =\n",
       "            document.querySelector('#' + key + ' button');\n",
       "          quickchartButtonEl.disabled = true;  // To prevent multiple clicks.\n",
       "          quickchartButtonEl.classList.add('colab-df-spinner');\n",
       "          try {\n",
       "            const charts = await google.colab.kernel.invokeFunction(\n",
       "                'suggestCharts', [key], {});\n",
       "          } catch (error) {\n",
       "            console.error('Error during call to suggestCharts:', error);\n",
       "          }\n",
       "          quickchartButtonEl.classList.remove('colab-df-spinner');\n",
       "          quickchartButtonEl.classList.add('colab-df-quickchart-complete');\n",
       "        }\n",
       "        (() => {\n",
       "          let quickchartButtonEl =\n",
       "            document.querySelector('#df-7a39f940-3afb-44ff-9070-1f4893427b55 button');\n",
       "          quickchartButtonEl.style.display =\n",
       "            google.colab.kernel.accessAllowed ? 'block' : 'none';\n",
       "        })();\n",
       "      </script>\n",
       "    </div>\n",
       "\n",
       "    </div>\n",
       "  </div>\n"
      ],
      "text/plain": [
       "   sample_id       token true_label pred_label\n",
       "0          4         and  I-problem          O\n",
       "1          4        numb  I-problem  B-problem\n",
       "2         16           g          O     B-test\n",
       "3         17           ,  I-problem          O\n",
       "4         21  diminished          O  B-problem"
      ]
     },
     "execution_count": 102,
     "metadata": {},
     "output_type": "execute_result"
    }
   ],
   "source": [
    "def build_error_dataframe(predictions_output, tokenized_dataset, id2label, tokenizer):\n",
    "    preds = np.argmax(predictions_output.predictions, axis=2)\n",
    "    labels = predictions_output.label_ids\n",
    "\n",
    "    mismatches = []\n",
    "\n",
    "    for i, (pred, lab, input_ids) in enumerate(zip(preds, labels, tokenized_dataset[\"input_ids\"])):\n",
    "        tokens = tokenizer.convert_ids_to_tokens(input_ids)\n",
    "\n",
    "        for tok, p, l in zip(tokens, pred, lab):\n",
    "            if l == -100:\n",
    "                continue\n",
    "            gold = id2label[l]\n",
    "            pred_lab = id2label[p]\n",
    "\n",
    "            if gold != pred_lab:\n",
    "                mismatches.append({\n",
    "                    \"sample_id\": i,\n",
    "                    \"token\": tok,\n",
    "                    \"true_label\": gold,\n",
    "                    \"pred_label\": pred_lab\n",
    "                })\n",
    "\n",
    "    return pd.DataFrame(mismatches)\n",
    "\n",
    "\n",
    "# Get mismatches dataframe\n",
    "df_errors = build_error_dataframe(predictions_output, tokenized_dataset[\"test\"], id2label, loaded_tokenizer)\n",
    "df_errors.head()"
   ]
  },
  {
   "cell_type": "code",
   "execution_count": 103,
   "id": "Is2KO_a7F90i",
   "metadata": {
    "colab": {
     "base_uri": "https://localhost:8080/"
    },
    "executionInfo": {
     "elapsed": 58,
     "status": "ok",
     "timestamp": 1757852266057,
     "user": {
      "displayName": "Sarvesh Singh",
      "userId": "02976406702695079389"
     },
     "user_tz": -330
    },
    "id": "Is2KO_a7F90i",
    "outputId": "49c8868d-5a62-453c-d4fe-73c95d545cd0"
   },
   "outputs": [
    {
     "name": "stdout",
     "output_type": "stream",
     "text": [
      "V1 through V3 , diminished light touch and pinprick in the left side .\n"
     ]
    },
    {
     "data": {
      "text/plain": [
       "['O',\n",
       " 'O',\n",
       " 'O',\n",
       " 'O',\n",
       " 'O',\n",
       " 'B-test',\n",
       " 'I-test',\n",
       " 'O',\n",
       " 'B-test',\n",
       " 'O',\n",
       " 'O',\n",
       " 'O',\n",
       " 'O',\n",
       " 'O']"
      ]
     },
     "execution_count": 103,
     "metadata": {},
     "output_type": "execute_result"
    }
   ],
   "source": [
    "# Checking a sample id\n",
    "print(\" \".join(tokenized_dataset[\"test\"][21][\"tokens\"]))\n",
    "\n",
    "lbls = tokenized_dataset[\"test\"][21][\"ner_tags\"]\n",
    "[id2label[l] for l in lbls]"
   ]
  },
  {
   "cell_type": "code",
   "execution_count": 106,
   "id": "GN6Mtih6_sXX",
   "metadata": {
    "colab": {
     "base_uri": "https://localhost:8080/"
    },
    "executionInfo": {
     "elapsed": 47,
     "status": "ok",
     "timestamp": 1757852298642,
     "user": {
      "displayName": "Sarvesh Singh",
      "userId": "02976406702695079389"
     },
     "user_tz": -330
    },
    "id": "GN6Mtih6_sXX",
    "outputId": "48f4020d-1fda-435b-c9e5-94e3801f48c2"
   },
   "outputs": [
    {
     "name": "stdout",
     "output_type": "stream",
     "text": [
      "Problems: ['diminished light touch', 'pinprick in the left side']\n",
      "Treatments: []\n",
      "Tests: []\n",
      "\n",
      "v               O\n",
      "##1             O\n",
      "through         O\n",
      "v               O\n",
      "##3             O\n",
      ",               O\n",
      "diminished      B-problem\n",
      "light           I-problem\n",
      "touch           I-problem\n",
      "and             O\n",
      "pin             B-problem\n",
      "##p             I-problem\n",
      "##rick          I-problem\n",
      "in              I-problem\n",
      "the             I-problem\n",
      "left            I-problem\n",
      "side            I-problem\n",
      ".               O\n"
     ]
    }
   ],
   "source": [
    "# Model Output\n",
    "note = \"V1 through V3, diminished light touch and pinprick in the left side.\"\n",
    "prediction, entities = predict_entities(note)\n",
    "\n",
    "# Entity Level Results\n",
    "print(\"Problems:\", entities[\"PROBLEM\"])\n",
    "print(\"Treatments:\", entities[\"TREATMENT\"])\n",
    "print(\"Tests:\", entities[\"TEST\"])\n",
    "print()\n",
    "\n",
    "# Token Level Results\n",
    "for token, label in prediction:\n",
    "    print(f\"{token:<15} {label}\")"
   ]
  },
  {
   "cell_type": "markdown",
   "id": "DQmT2uRyNBJ5",
   "metadata": {
    "id": "DQmT2uRyNBJ5"
   },
   "source": [
    "**Probable Reason of error -**\n",
    "\n",
    "- This i2b2 dataset often labels neurological exams like \"diminished light touch\" and \"pinprick\" as tests (they are exam findings).\n",
    "\n",
    "- But semantically, they also look like problems/symptoms.\n",
    "\n",
    "**Solution that might help -**\n",
    "- Data Augumentation of the error cases and re-training"
   ]
  },
  {
   "cell_type": "code",
   "execution_count": 107,
   "id": "4JfEBu7bKQi7",
   "metadata": {
    "executionInfo": {
     "elapsed": 7,
     "status": "ok",
     "timestamp": 1757852993720,
     "user": {
      "displayName": "Sarvesh Singh",
      "userId": "02976406702695079389"
     },
     "user_tz": -330
    },
    "id": "4JfEBu7bKQi7"
   },
   "outputs": [],
   "source": []
  },
  {
   "cell_type": "code",
   "execution_count": null,
   "id": "IVRc44gIM6-8",
   "metadata": {
    "id": "IVRc44gIM6-8"
   },
   "outputs": [],
   "source": []
  }
 ],
 "metadata": {
  "accelerator": "GPU",
  "colab": {
   "gpuType": "T4",
   "provenance": []
  },
  "kernelspec": {
   "display_name": "Python 3",
   "name": "python3"
  },
  "language_info": {
   "codemirror_mode": {
    "name": "ipython",
    "version": 3
   },
   "file_extension": ".py",
   "mimetype": "text/x-python",
   "name": "python",
   "nbconvert_exporter": "python",
   "pygments_lexer": "ipython3",
   "version": "3.13.1"
  },
  "widgets": {
   "application/vnd.jupyter.widget-state+json": {
    "00f7a27bc82a49228c701a97b972ceb7": {
     "model_module": "@jupyter-widgets/controls",
     "model_module_version": "1.5.0",
     "model_name": "FloatProgressModel",
     "state": {
      "_dom_classes": [],
      "_model_module": "@jupyter-widgets/controls",
      "_model_module_version": "1.5.0",
      "_model_name": "FloatProgressModel",
      "_view_count": null,
      "_view_module": "@jupyter-widgets/controls",
      "_view_module_version": "1.5.0",
      "_view_name": "ProgressView",
      "bar_style": "success",
      "description": "",
      "description_tooltip": null,
      "layout": "IPY_MODEL_fa997566da1f4cf0a196973e1e73a374",
      "max": 50,
      "min": 0,
      "orientation": "horizontal",
      "style": "IPY_MODEL_7fb7f935e0a740d6b32f635565a1d436",
      "value": 50
     }
    },
    "01b5338beb79483e8cb8159dcaaa832b": {
     "model_module": "@jupyter-widgets/controls",
     "model_module_version": "1.5.0",
     "model_name": "ProgressStyleModel",
     "state": {
      "_model_module": "@jupyter-widgets/controls",
      "_model_module_version": "1.5.0",
      "_model_name": "ProgressStyleModel",
      "_view_count": null,
      "_view_module": "@jupyter-widgets/base",
      "_view_module_version": "1.2.0",
      "_view_name": "StyleView",
      "bar_color": null,
      "description_width": ""
     }
    },
    "0ad3c20d79794dee86209c38f1ed1d39": {
     "model_module": "@jupyter-widgets/controls",
     "model_module_version": "1.5.0",
     "model_name": "HTMLModel",
     "state": {
      "_dom_classes": [],
      "_model_module": "@jupyter-widgets/controls",
      "_model_module_version": "1.5.0",
      "_model_name": "HTMLModel",
      "_view_count": null,
      "_view_module": "@jupyter-widgets/controls",
      "_view_module_version": "1.5.0",
      "_view_name": "HTMLView",
      "description": "",
      "description_tooltip": null,
      "layout": "IPY_MODEL_ef194b6c14d044b9b4ca5b41ddf74c66",
      "placeholder": "​",
      "style": "IPY_MODEL_e99ec9e52e2341638e56c94a67abb535",
      "value": "Map: 100%"
     }
    },
    "0f346ab451554938a04467d3e7315205": {
     "model_module": "@jupyter-widgets/base",
     "model_module_version": "1.2.0",
     "model_name": "LayoutModel",
     "state": {
      "_model_module": "@jupyter-widgets/base",
      "_model_module_version": "1.2.0",
      "_model_name": "LayoutModel",
      "_view_count": null,
      "_view_module": "@jupyter-widgets/base",
      "_view_module_version": "1.2.0",
      "_view_name": "LayoutView",
      "align_content": null,
      "align_items": null,
      "align_self": null,
      "border": null,
      "bottom": null,
      "display": null,
      "flex": null,
      "flex_flow": null,
      "grid_area": null,
      "grid_auto_columns": null,
      "grid_auto_flow": null,
      "grid_auto_rows": null,
      "grid_column": null,
      "grid_gap": null,
      "grid_row": null,
      "grid_template_areas": null,
      "grid_template_columns": null,
      "grid_template_rows": null,
      "height": null,
      "justify_content": null,
      "justify_items": null,
      "left": null,
      "margin": null,
      "max_height": null,
      "max_width": null,
      "min_height": null,
      "min_width": null,
      "object_fit": null,
      "object_position": null,
      "order": null,
      "overflow": null,
      "overflow_x": null,
      "overflow_y": null,
      "padding": null,
      "right": null,
      "top": null,
      "visibility": null,
      "width": null
     }
    },
    "1165eb08b206462a991b134e87082c35": {
     "model_module": "@jupyter-widgets/base",
     "model_module_version": "1.2.0",
     "model_name": "LayoutModel",
     "state": {
      "_model_module": "@jupyter-widgets/base",
      "_model_module_version": "1.2.0",
      "_model_name": "LayoutModel",
      "_view_count": null,
      "_view_module": "@jupyter-widgets/base",
      "_view_module_version": "1.2.0",
      "_view_name": "LayoutView",
      "align_content": null,
      "align_items": null,
      "align_self": null,
      "border": null,
      "bottom": null,
      "display": null,
      "flex": null,
      "flex_flow": null,
      "grid_area": null,
      "grid_auto_columns": null,
      "grid_auto_flow": null,
      "grid_auto_rows": null,
      "grid_column": null,
      "grid_gap": null,
      "grid_row": null,
      "grid_template_areas": null,
      "grid_template_columns": null,
      "grid_template_rows": null,
      "height": null,
      "justify_content": null,
      "justify_items": null,
      "left": null,
      "margin": null,
      "max_height": null,
      "max_width": null,
      "min_height": null,
      "min_width": null,
      "object_fit": null,
      "object_position": null,
      "order": null,
      "overflow": null,
      "overflow_x": null,
      "overflow_y": null,
      "padding": null,
      "right": null,
      "top": null,
      "visibility": null,
      "width": null
     }
    },
    "11cd6d311a96470c9581f501ef0cca91": {
     "model_module": "@jupyter-widgets/controls",
     "model_module_version": "1.5.0",
     "model_name": "HTMLModel",
     "state": {
      "_dom_classes": [],
      "_model_module": "@jupyter-widgets/controls",
      "_model_module_version": "1.5.0",
      "_model_name": "HTMLModel",
      "_view_count": null,
      "_view_module": "@jupyter-widgets/controls",
      "_view_module_version": "1.5.0",
      "_view_name": "HTMLView",
      "description": "",
      "description_tooltip": null,
      "layout": "IPY_MODEL_e8e312c4e0f1466ab316da845feb698d",
      "placeholder": "​",
      "style": "IPY_MODEL_b6eb389d7c634af984ecb4af1bb7c30d",
      "value": " 27625/27625 [00:01&lt;00:00, 11402.50 examples/s]"
     }
    },
    "1435e2d3ec3c48bf8ba1bccdea13d2d3": {
     "model_module": "@jupyter-widgets/controls",
     "model_module_version": "1.5.0",
     "model_name": "HTMLModel",
     "state": {
      "_dom_classes": [],
      "_model_module": "@jupyter-widgets/controls",
      "_model_module_version": "1.5.0",
      "_model_name": "HTMLModel",
      "_view_count": null,
      "_view_module": "@jupyter-widgets/controls",
      "_view_module_version": "1.5.0",
      "_view_name": "HTMLView",
      "description": "",
      "description_tooltip": null,
      "layout": "IPY_MODEL_1165eb08b206462a991b134e87082c35",
      "placeholder": "​",
      "style": "IPY_MODEL_92b36a063a644ad28169f7027024cf42",
      "value": " 2447/2447 [00:00&lt;00:00, 5480.03 examples/s]"
     }
    },
    "1bd47f83e7f9444c85c1e07d6c14d4e3": {
     "model_module": "@jupyter-widgets/controls",
     "model_module_version": "1.5.0",
     "model_name": "FloatProgressModel",
     "state": {
      "_dom_classes": [],
      "_model_module": "@jupyter-widgets/controls",
      "_model_module_version": "1.5.0",
      "_model_name": "FloatProgressModel",
      "_view_count": null,
      "_view_module": "@jupyter-widgets/controls",
      "_view_module_version": "1.5.0",
      "_view_name": "ProgressView",
      "bar_style": "success",
      "description": "",
      "description_tooltip": null,
      "layout": "IPY_MODEL_c95e75e3fe154ca3a09ed8c104ec4c55",
      "max": 27625,
      "min": 0,
      "orientation": "horizontal",
      "style": "IPY_MODEL_f2236371d168400f99351e0a6669b964",
      "value": 27625
     }
    },
    "212541cfe0eb44718a0bfee52431f154": {
     "model_module": "@jupyter-widgets/controls",
     "model_module_version": "1.5.0",
     "model_name": "HTMLModel",
     "state": {
      "_dom_classes": [],
      "_model_module": "@jupyter-widgets/controls",
      "_model_module_version": "1.5.0",
      "_model_name": "HTMLModel",
      "_view_count": null,
      "_view_module": "@jupyter-widgets/controls",
      "_view_module_version": "1.5.0",
      "_view_name": "HTMLView",
      "description": "",
      "description_tooltip": null,
      "layout": "IPY_MODEL_4b116402176148e6ab919549c42dd514",
      "placeholder": "​",
      "style": "IPY_MODEL_cd59d008efe449dfab310a0743ef9001",
      "value": "Map: 100%"
     }
    },
    "212b8411501d496eb6a3d045634e2676": {
     "model_module": "@jupyter-widgets/base",
     "model_module_version": "1.2.0",
     "model_name": "LayoutModel",
     "state": {
      "_model_module": "@jupyter-widgets/base",
      "_model_module_version": "1.2.0",
      "_model_name": "LayoutModel",
      "_view_count": null,
      "_view_module": "@jupyter-widgets/base",
      "_view_module_version": "1.2.0",
      "_view_name": "LayoutView",
      "align_content": null,
      "align_items": null,
      "align_self": null,
      "border": null,
      "bottom": null,
      "display": null,
      "flex": null,
      "flex_flow": null,
      "grid_area": null,
      "grid_auto_columns": null,
      "grid_auto_flow": null,
      "grid_auto_rows": null,
      "grid_column": null,
      "grid_gap": null,
      "grid_row": null,
      "grid_template_areas": null,
      "grid_template_columns": null,
      "grid_template_rows": null,
      "height": null,
      "justify_content": null,
      "justify_items": null,
      "left": null,
      "margin": null,
      "max_height": null,
      "max_width": null,
      "min_height": null,
      "min_width": null,
      "object_fit": null,
      "object_position": null,
      "order": null,
      "overflow": null,
      "overflow_x": null,
      "overflow_y": null,
      "padding": null,
      "right": null,
      "top": null,
      "visibility": null,
      "width": null
     }
    },
    "27b3c9beada24496acab46d19a1ea7b4": {
     "model_module": "@jupyter-widgets/base",
     "model_module_version": "1.2.0",
     "model_name": "LayoutModel",
     "state": {
      "_model_module": "@jupyter-widgets/base",
      "_model_module_version": "1.2.0",
      "_model_name": "LayoutModel",
      "_view_count": null,
      "_view_module": "@jupyter-widgets/base",
      "_view_module_version": "1.2.0",
      "_view_name": "LayoutView",
      "align_content": null,
      "align_items": null,
      "align_self": null,
      "border": null,
      "bottom": null,
      "display": null,
      "flex": null,
      "flex_flow": null,
      "grid_area": null,
      "grid_auto_columns": null,
      "grid_auto_flow": null,
      "grid_auto_rows": null,
      "grid_column": null,
      "grid_gap": null,
      "grid_row": null,
      "grid_template_areas": null,
      "grid_template_columns": null,
      "grid_template_rows": null,
      "height": null,
      "justify_content": null,
      "justify_items": null,
      "left": null,
      "margin": null,
      "max_height": null,
      "max_width": null,
      "min_height": null,
      "min_width": null,
      "object_fit": null,
      "object_position": null,
      "order": null,
      "overflow": null,
      "overflow_x": null,
      "overflow_y": null,
      "padding": null,
      "right": null,
      "top": null,
      "visibility": null,
      "width": null
     }
    },
    "2bacd99dcade4de098df7dfe761f1d5f": {
     "model_module": "@jupyter-widgets/base",
     "model_module_version": "1.2.0",
     "model_name": "LayoutModel",
     "state": {
      "_model_module": "@jupyter-widgets/base",
      "_model_module_version": "1.2.0",
      "_model_name": "LayoutModel",
      "_view_count": null,
      "_view_module": "@jupyter-widgets/base",
      "_view_module_version": "1.2.0",
      "_view_name": "LayoutView",
      "align_content": null,
      "align_items": null,
      "align_self": null,
      "border": null,
      "bottom": null,
      "display": null,
      "flex": null,
      "flex_flow": null,
      "grid_area": null,
      "grid_auto_columns": null,
      "grid_auto_flow": null,
      "grid_auto_rows": null,
      "grid_column": null,
      "grid_gap": null,
      "grid_row": null,
      "grid_template_areas": null,
      "grid_template_columns": null,
      "grid_template_rows": null,
      "height": null,
      "justify_content": null,
      "justify_items": null,
      "left": null,
      "margin": null,
      "max_height": null,
      "max_width": null,
      "min_height": null,
      "min_width": null,
      "object_fit": null,
      "object_position": null,
      "order": null,
      "overflow": null,
      "overflow_x": null,
      "overflow_y": null,
      "padding": null,
      "right": null,
      "top": null,
      "visibility": null,
      "width": null
     }
    },
    "2e9b89daf1df47419c6a26a33a6d9b29": {
     "model_module": "@jupyter-widgets/controls",
     "model_module_version": "1.5.0",
     "model_name": "FloatProgressModel",
     "state": {
      "_dom_classes": [],
      "_model_module": "@jupyter-widgets/controls",
      "_model_module_version": "1.5.0",
      "_model_name": "FloatProgressModel",
      "_view_count": null,
      "_view_module": "@jupyter-widgets/controls",
      "_view_module_version": "1.5.0",
      "_view_name": "ProgressView",
      "bar_style": "success",
      "description": "",
      "description_tooltip": null,
      "layout": "IPY_MODEL_7bfdde33ef434b5db6ecef612be4f3a8",
      "max": 2447,
      "min": 0,
      "orientation": "horizontal",
      "style": "IPY_MODEL_c01f32430c194c2392c59e4be34dca95",
      "value": 2447
     }
    },
    "3526c995c2c743e885611f515e7df211": {
     "model_module": "@jupyter-widgets/controls",
     "model_module_version": "1.5.0",
     "model_name": "DescriptionStyleModel",
     "state": {
      "_model_module": "@jupyter-widgets/controls",
      "_model_module_version": "1.5.0",
      "_model_name": "DescriptionStyleModel",
      "_view_count": null,
      "_view_module": "@jupyter-widgets/base",
      "_view_module_version": "1.2.0",
      "_view_name": "StyleView",
      "description_width": ""
     }
    },
    "38603a1843fc46a7afa16fa34747ef42": {
     "model_module": "@jupyter-widgets/controls",
     "model_module_version": "1.5.0",
     "model_name": "DescriptionStyleModel",
     "state": {
      "_model_module": "@jupyter-widgets/controls",
      "_model_module_version": "1.5.0",
      "_model_name": "DescriptionStyleModel",
      "_view_count": null,
      "_view_module": "@jupyter-widgets/base",
      "_view_module_version": "1.2.0",
      "_view_name": "StyleView",
      "description_width": ""
     }
    },
    "42728ad272754885b36747ddf4f07f02": {
     "model_module": "@jupyter-widgets/base",
     "model_module_version": "1.2.0",
     "model_name": "LayoutModel",
     "state": {
      "_model_module": "@jupyter-widgets/base",
      "_model_module_version": "1.2.0",
      "_model_name": "LayoutModel",
      "_view_count": null,
      "_view_module": "@jupyter-widgets/base",
      "_view_module_version": "1.2.0",
      "_view_name": "LayoutView",
      "align_content": null,
      "align_items": null,
      "align_self": null,
      "border": null,
      "bottom": null,
      "display": null,
      "flex": null,
      "flex_flow": null,
      "grid_area": null,
      "grid_auto_columns": null,
      "grid_auto_flow": null,
      "grid_auto_rows": null,
      "grid_column": null,
      "grid_gap": null,
      "grid_row": null,
      "grid_template_areas": null,
      "grid_template_columns": null,
      "grid_template_rows": null,
      "height": null,
      "justify_content": null,
      "justify_items": null,
      "left": null,
      "margin": null,
      "max_height": null,
      "max_width": null,
      "min_height": null,
      "min_width": null,
      "object_fit": null,
      "object_position": null,
      "order": null,
      "overflow": null,
      "overflow_x": null,
      "overflow_y": null,
      "padding": null,
      "right": null,
      "top": null,
      "visibility": null,
      "width": null
     }
    },
    "4b116402176148e6ab919549c42dd514": {
     "model_module": "@jupyter-widgets/base",
     "model_module_version": "1.2.0",
     "model_name": "LayoutModel",
     "state": {
      "_model_module": "@jupyter-widgets/base",
      "_model_module_version": "1.2.0",
      "_model_name": "LayoutModel",
      "_view_count": null,
      "_view_module": "@jupyter-widgets/base",
      "_view_module_version": "1.2.0",
      "_view_name": "LayoutView",
      "align_content": null,
      "align_items": null,
      "align_self": null,
      "border": null,
      "bottom": null,
      "display": null,
      "flex": null,
      "flex_flow": null,
      "grid_area": null,
      "grid_auto_columns": null,
      "grid_auto_flow": null,
      "grid_auto_rows": null,
      "grid_column": null,
      "grid_gap": null,
      "grid_row": null,
      "grid_template_areas": null,
      "grid_template_columns": null,
      "grid_template_rows": null,
      "height": null,
      "justify_content": null,
      "justify_items": null,
      "left": null,
      "margin": null,
      "max_height": null,
      "max_width": null,
      "min_height": null,
      "min_width": null,
      "object_fit": null,
      "object_position": null,
      "order": null,
      "overflow": null,
      "overflow_x": null,
      "overflow_y": null,
      "padding": null,
      "right": null,
      "top": null,
      "visibility": null,
      "width": null
     }
    },
    "4c52f32de8524350a9693022b19cc6a1": {
     "model_module": "@jupyter-widgets/controls",
     "model_module_version": "1.5.0",
     "model_name": "DescriptionStyleModel",
     "state": {
      "_model_module": "@jupyter-widgets/controls",
      "_model_module_version": "1.5.0",
      "_model_name": "DescriptionStyleModel",
      "_view_count": null,
      "_view_module": "@jupyter-widgets/base",
      "_view_module_version": "1.2.0",
      "_view_name": "StyleView",
      "description_width": ""
     }
    },
    "4ef0d61b18424804869169cfaf3af3fd": {
     "model_module": "@jupyter-widgets/controls",
     "model_module_version": "1.5.0",
     "model_name": "DescriptionStyleModel",
     "state": {
      "_model_module": "@jupyter-widgets/controls",
      "_model_module_version": "1.5.0",
      "_model_name": "DescriptionStyleModel",
      "_view_count": null,
      "_view_module": "@jupyter-widgets/base",
      "_view_module_version": "1.2.0",
      "_view_name": "StyleView",
      "description_width": ""
     }
    },
    "4f242d81f1a0497a9fdf1697f64ad10d": {
     "model_module": "@jupyter-widgets/controls",
     "model_module_version": "1.5.0",
     "model_name": "DescriptionStyleModel",
     "state": {
      "_model_module": "@jupyter-widgets/controls",
      "_model_module_version": "1.5.0",
      "_model_name": "DescriptionStyleModel",
      "_view_count": null,
      "_view_module": "@jupyter-widgets/base",
      "_view_module_version": "1.2.0",
      "_view_name": "StyleView",
      "description_width": ""
     }
    },
    "4f98d6cf622f4e2d9972f871824e2f3f": {
     "model_module": "@jupyter-widgets/base",
     "model_module_version": "1.2.0",
     "model_name": "LayoutModel",
     "state": {
      "_model_module": "@jupyter-widgets/base",
      "_model_module_version": "1.2.0",
      "_model_name": "LayoutModel",
      "_view_count": null,
      "_view_module": "@jupyter-widgets/base",
      "_view_module_version": "1.2.0",
      "_view_name": "LayoutView",
      "align_content": null,
      "align_items": null,
      "align_self": null,
      "border": null,
      "bottom": null,
      "display": null,
      "flex": null,
      "flex_flow": null,
      "grid_area": null,
      "grid_auto_columns": null,
      "grid_auto_flow": null,
      "grid_auto_rows": null,
      "grid_column": null,
      "grid_gap": null,
      "grid_row": null,
      "grid_template_areas": null,
      "grid_template_columns": null,
      "grid_template_rows": null,
      "height": null,
      "justify_content": null,
      "justify_items": null,
      "left": null,
      "margin": null,
      "max_height": null,
      "max_width": null,
      "min_height": null,
      "min_width": null,
      "object_fit": null,
      "object_position": null,
      "order": null,
      "overflow": null,
      "overflow_x": null,
      "overflow_y": null,
      "padding": null,
      "right": null,
      "top": null,
      "visibility": null,
      "width": null
     }
    },
    "503aaec1dd924f34821889b23cb132bc": {
     "model_module": "@jupyter-widgets/base",
     "model_module_version": "1.2.0",
     "model_name": "LayoutModel",
     "state": {
      "_model_module": "@jupyter-widgets/base",
      "_model_module_version": "1.2.0",
      "_model_name": "LayoutModel",
      "_view_count": null,
      "_view_module": "@jupyter-widgets/base",
      "_view_module_version": "1.2.0",
      "_view_name": "LayoutView",
      "align_content": null,
      "align_items": null,
      "align_self": null,
      "border": null,
      "bottom": null,
      "display": null,
      "flex": null,
      "flex_flow": null,
      "grid_area": null,
      "grid_auto_columns": null,
      "grid_auto_flow": null,
      "grid_auto_rows": null,
      "grid_column": null,
      "grid_gap": null,
      "grid_row": null,
      "grid_template_areas": null,
      "grid_template_columns": null,
      "grid_template_rows": null,
      "height": null,
      "justify_content": null,
      "justify_items": null,
      "left": null,
      "margin": null,
      "max_height": null,
      "max_width": null,
      "min_height": null,
      "min_width": null,
      "object_fit": null,
      "object_position": null,
      "order": null,
      "overflow": null,
      "overflow_x": null,
      "overflow_y": null,
      "padding": null,
      "right": null,
      "top": null,
      "visibility": null,
      "width": null
     }
    },
    "51d847a0b841461597f61dbc577d69f8": {
     "model_module": "@jupyter-widgets/controls",
     "model_module_version": "1.5.0",
     "model_name": "ProgressStyleModel",
     "state": {
      "_model_module": "@jupyter-widgets/controls",
      "_model_module_version": "1.5.0",
      "_model_name": "ProgressStyleModel",
      "_view_count": null,
      "_view_module": "@jupyter-widgets/base",
      "_view_module_version": "1.2.0",
      "_view_name": "StyleView",
      "bar_color": null,
      "description_width": ""
     }
    },
    "51e0e610d7d8472d87c4774350bfc11f": {
     "model_module": "@jupyter-widgets/controls",
     "model_module_version": "1.5.0",
     "model_name": "DescriptionStyleModel",
     "state": {
      "_model_module": "@jupyter-widgets/controls",
      "_model_module_version": "1.5.0",
      "_model_name": "DescriptionStyleModel",
      "_view_count": null,
      "_view_module": "@jupyter-widgets/base",
      "_view_module_version": "1.2.0",
      "_view_name": "StyleView",
      "description_width": ""
     }
    },
    "56422ab214714222bc61460bce8d1769": {
     "model_module": "@jupyter-widgets/base",
     "model_module_version": "1.2.0",
     "model_name": "LayoutModel",
     "state": {
      "_model_module": "@jupyter-widgets/base",
      "_model_module_version": "1.2.0",
      "_model_name": "LayoutModel",
      "_view_count": null,
      "_view_module": "@jupyter-widgets/base",
      "_view_module_version": "1.2.0",
      "_view_name": "LayoutView",
      "align_content": null,
      "align_items": null,
      "align_self": null,
      "border": null,
      "bottom": null,
      "display": null,
      "flex": null,
      "flex_flow": null,
      "grid_area": null,
      "grid_auto_columns": null,
      "grid_auto_flow": null,
      "grid_auto_rows": null,
      "grid_column": null,
      "grid_gap": null,
      "grid_row": null,
      "grid_template_areas": null,
      "grid_template_columns": null,
      "grid_template_rows": null,
      "height": null,
      "justify_content": null,
      "justify_items": null,
      "left": null,
      "margin": null,
      "max_height": null,
      "max_width": null,
      "min_height": null,
      "min_width": null,
      "object_fit": null,
      "object_position": null,
      "order": null,
      "overflow": null,
      "overflow_x": null,
      "overflow_y": null,
      "padding": null,
      "right": null,
      "top": null,
      "visibility": null,
      "width": null
     }
    },
    "5a905677e00e41a88aeea4a81d286c06": {
     "model_module": "@jupyter-widgets/base",
     "model_module_version": "1.2.0",
     "model_name": "LayoutModel",
     "state": {
      "_model_module": "@jupyter-widgets/base",
      "_model_module_version": "1.2.0",
      "_model_name": "LayoutModel",
      "_view_count": null,
      "_view_module": "@jupyter-widgets/base",
      "_view_module_version": "1.2.0",
      "_view_name": "LayoutView",
      "align_content": null,
      "align_items": null,
      "align_self": null,
      "border": null,
      "bottom": null,
      "display": null,
      "flex": null,
      "flex_flow": null,
      "grid_area": null,
      "grid_auto_columns": null,
      "grid_auto_flow": null,
      "grid_auto_rows": null,
      "grid_column": null,
      "grid_gap": null,
      "grid_row": null,
      "grid_template_areas": null,
      "grid_template_columns": null,
      "grid_template_rows": null,
      "height": null,
      "justify_content": null,
      "justify_items": null,
      "left": null,
      "margin": null,
      "max_height": null,
      "max_width": null,
      "min_height": null,
      "min_width": null,
      "object_fit": null,
      "object_position": null,
      "order": null,
      "overflow": null,
      "overflow_x": null,
      "overflow_y": null,
      "padding": null,
      "right": null,
      "top": null,
      "visibility": null,
      "width": null
     }
    },
    "5ad11f9391684f75a8959076c500426d": {
     "model_module": "@jupyter-widgets/controls",
     "model_module_version": "1.5.0",
     "model_name": "HBoxModel",
     "state": {
      "_dom_classes": [],
      "_model_module": "@jupyter-widgets/controls",
      "_model_module_version": "1.5.0",
      "_model_name": "HBoxModel",
      "_view_count": null,
      "_view_module": "@jupyter-widgets/controls",
      "_view_module_version": "1.5.0",
      "_view_name": "HBoxView",
      "box_style": "",
      "children": [
       "IPY_MODEL_c2bf3d75a7f44da79cfbb20991255b78",
       "IPY_MODEL_97a2b9d05c27487497d6926b541a7d0c",
       "IPY_MODEL_e914795b30a04eb2917d5beabeab7863"
      ],
      "layout": "IPY_MODEL_60738852a5264aedb282867a8c37dbdc"
     }
    },
    "5d8af2f9057245d1b96d5b126a8eb209": {
     "model_module": "@jupyter-widgets/base",
     "model_module_version": "1.2.0",
     "model_name": "LayoutModel",
     "state": {
      "_model_module": "@jupyter-widgets/base",
      "_model_module_version": "1.2.0",
      "_model_name": "LayoutModel",
      "_view_count": null,
      "_view_module": "@jupyter-widgets/base",
      "_view_module_version": "1.2.0",
      "_view_name": "LayoutView",
      "align_content": null,
      "align_items": null,
      "align_self": null,
      "border": null,
      "bottom": null,
      "display": null,
      "flex": null,
      "flex_flow": null,
      "grid_area": null,
      "grid_auto_columns": null,
      "grid_auto_flow": null,
      "grid_auto_rows": null,
      "grid_column": null,
      "grid_gap": null,
      "grid_row": null,
      "grid_template_areas": null,
      "grid_template_columns": null,
      "grid_template_rows": null,
      "height": null,
      "justify_content": null,
      "justify_items": null,
      "left": null,
      "margin": null,
      "max_height": null,
      "max_width": null,
      "min_height": null,
      "min_width": null,
      "object_fit": null,
      "object_position": null,
      "order": null,
      "overflow": null,
      "overflow_x": null,
      "overflow_y": null,
      "padding": null,
      "right": null,
      "top": null,
      "visibility": null,
      "width": null
     }
    },
    "60738852a5264aedb282867a8c37dbdc": {
     "model_module": "@jupyter-widgets/base",
     "model_module_version": "1.2.0",
     "model_name": "LayoutModel",
     "state": {
      "_model_module": "@jupyter-widgets/base",
      "_model_module_version": "1.2.0",
      "_model_name": "LayoutModel",
      "_view_count": null,
      "_view_module": "@jupyter-widgets/base",
      "_view_module_version": "1.2.0",
      "_view_name": "LayoutView",
      "align_content": null,
      "align_items": null,
      "align_self": null,
      "border": null,
      "bottom": null,
      "display": null,
      "flex": null,
      "flex_flow": null,
      "grid_area": null,
      "grid_auto_columns": null,
      "grid_auto_flow": null,
      "grid_auto_rows": null,
      "grid_column": null,
      "grid_gap": null,
      "grid_row": null,
      "grid_template_areas": null,
      "grid_template_columns": null,
      "grid_template_rows": null,
      "height": null,
      "justify_content": null,
      "justify_items": null,
      "left": null,
      "margin": null,
      "max_height": null,
      "max_width": null,
      "min_height": null,
      "min_width": null,
      "object_fit": null,
      "object_position": null,
      "order": null,
      "overflow": null,
      "overflow_x": null,
      "overflow_y": null,
      "padding": null,
      "right": null,
      "top": null,
      "visibility": null,
      "width": null
     }
    },
    "6502a2f384d447e884555e7679f9b2c2": {
     "model_module": "@jupyter-widgets/controls",
     "model_module_version": "1.5.0",
     "model_name": "HBoxModel",
     "state": {
      "_dom_classes": [],
      "_model_module": "@jupyter-widgets/controls",
      "_model_module_version": "1.5.0",
      "_model_name": "HBoxModel",
      "_view_count": null,
      "_view_module": "@jupyter-widgets/controls",
      "_view_module_version": "1.5.0",
      "_view_name": "HBoxView",
      "box_style": "",
      "children": [
       "IPY_MODEL_0ad3c20d79794dee86209c38f1ed1d39",
       "IPY_MODEL_87a19ee62be04703b976e7fcb3be7c5f",
       "IPY_MODEL_87d281b1b6de4ea1903e37127b56d927"
      ],
      "layout": "IPY_MODEL_799849828b31487bbc45ca28164a79f1"
     }
    },
    "65cb0bbac7104a79b9139afaf80cf311": {
     "model_module": "@jupyter-widgets/controls",
     "model_module_version": "1.5.0",
     "model_name": "HTMLModel",
     "state": {
      "_dom_classes": [],
      "_model_module": "@jupyter-widgets/controls",
      "_model_module_version": "1.5.0",
      "_model_name": "HTMLModel",
      "_view_count": null,
      "_view_module": "@jupyter-widgets/controls",
      "_view_module_version": "1.5.0",
      "_view_name": "HTMLView",
      "description": "",
      "description_tooltip": null,
      "layout": "IPY_MODEL_5d8af2f9057245d1b96d5b126a8eb209",
      "placeholder": "​",
      "style": "IPY_MODEL_89d4ece49b954c44ba852a4e235417aa",
      "value": " 50/50 [00:00&lt;00:00, 2829.06 examples/s]"
     }
    },
    "6997e0f65dfc4df6a481c5011a0c558b": {
     "model_module": "@jupyter-widgets/controls",
     "model_module_version": "1.5.0",
     "model_name": "HTMLModel",
     "state": {
      "_dom_classes": [],
      "_model_module": "@jupyter-widgets/controls",
      "_model_module_version": "1.5.0",
      "_model_name": "HTMLModel",
      "_view_count": null,
      "_view_module": "@jupyter-widgets/controls",
      "_view_module_version": "1.5.0",
      "_view_name": "HTMLView",
      "description": "",
      "description_tooltip": null,
      "layout": "IPY_MODEL_2bacd99dcade4de098df7dfe761f1d5f",
      "placeholder": "​",
      "style": "IPY_MODEL_8acce1b076e74987a9feaf391f122fdc",
      "value": " 50/50 [00:00&lt;00:00, 1104.52 examples/s]"
     }
    },
    "71366fff78804d73a3515d743268eb77": {
     "model_module": "@jupyter-widgets/controls",
     "model_module_version": "1.5.0",
     "model_name": "HBoxModel",
     "state": {
      "_dom_classes": [],
      "_model_module": "@jupyter-widgets/controls",
      "_model_module_version": "1.5.0",
      "_model_name": "HBoxModel",
      "_view_count": null,
      "_view_module": "@jupyter-widgets/controls",
      "_view_module_version": "1.5.0",
      "_view_name": "HBoxView",
      "box_style": "",
      "children": [
       "IPY_MODEL_cb67d4afd9834969bafcd83da60e6cac",
       "IPY_MODEL_00f7a27bc82a49228c701a97b972ceb7",
       "IPY_MODEL_6997e0f65dfc4df6a481c5011a0c558b"
      ],
      "layout": "IPY_MODEL_fe16c9a7257946448a3a621dbf81133e"
     }
    },
    "776524a6233349ed9adbfc56736a1f17": {
     "model_module": "@jupyter-widgets/controls",
     "model_module_version": "1.5.0",
     "model_name": "ProgressStyleModel",
     "state": {
      "_model_module": "@jupyter-widgets/controls",
      "_model_module_version": "1.5.0",
      "_model_name": "ProgressStyleModel",
      "_view_count": null,
      "_view_module": "@jupyter-widgets/base",
      "_view_module_version": "1.2.0",
      "_view_name": "StyleView",
      "bar_color": null,
      "description_width": ""
     }
    },
    "799849828b31487bbc45ca28164a79f1": {
     "model_module": "@jupyter-widgets/base",
     "model_module_version": "1.2.0",
     "model_name": "LayoutModel",
     "state": {
      "_model_module": "@jupyter-widgets/base",
      "_model_module_version": "1.2.0",
      "_model_name": "LayoutModel",
      "_view_count": null,
      "_view_module": "@jupyter-widgets/base",
      "_view_module_version": "1.2.0",
      "_view_name": "LayoutView",
      "align_content": null,
      "align_items": null,
      "align_self": null,
      "border": null,
      "bottom": null,
      "display": null,
      "flex": null,
      "flex_flow": null,
      "grid_area": null,
      "grid_auto_columns": null,
      "grid_auto_flow": null,
      "grid_auto_rows": null,
      "grid_column": null,
      "grid_gap": null,
      "grid_row": null,
      "grid_template_areas": null,
      "grid_template_columns": null,
      "grid_template_rows": null,
      "height": null,
      "justify_content": null,
      "justify_items": null,
      "left": null,
      "margin": null,
      "max_height": null,
      "max_width": null,
      "min_height": null,
      "min_width": null,
      "object_fit": null,
      "object_position": null,
      "order": null,
      "overflow": null,
      "overflow_x": null,
      "overflow_y": null,
      "padding": null,
      "right": null,
      "top": null,
      "visibility": null,
      "width": null
     }
    },
    "7bfdde33ef434b5db6ecef612be4f3a8": {
     "model_module": "@jupyter-widgets/base",
     "model_module_version": "1.2.0",
     "model_name": "LayoutModel",
     "state": {
      "_model_module": "@jupyter-widgets/base",
      "_model_module_version": "1.2.0",
      "_model_name": "LayoutModel",
      "_view_count": null,
      "_view_module": "@jupyter-widgets/base",
      "_view_module_version": "1.2.0",
      "_view_name": "LayoutView",
      "align_content": null,
      "align_items": null,
      "align_self": null,
      "border": null,
      "bottom": null,
      "display": null,
      "flex": null,
      "flex_flow": null,
      "grid_area": null,
      "grid_auto_columns": null,
      "grid_auto_flow": null,
      "grid_auto_rows": null,
      "grid_column": null,
      "grid_gap": null,
      "grid_row": null,
      "grid_template_areas": null,
      "grid_template_columns": null,
      "grid_template_rows": null,
      "height": null,
      "justify_content": null,
      "justify_items": null,
      "left": null,
      "margin": null,
      "max_height": null,
      "max_width": null,
      "min_height": null,
      "min_width": null,
      "object_fit": null,
      "object_position": null,
      "order": null,
      "overflow": null,
      "overflow_x": null,
      "overflow_y": null,
      "padding": null,
      "right": null,
      "top": null,
      "visibility": null,
      "width": null
     }
    },
    "7ef49a2484be4aef8b6d4c753c647756": {
     "model_module": "@jupyter-widgets/base",
     "model_module_version": "1.2.0",
     "model_name": "LayoutModel",
     "state": {
      "_model_module": "@jupyter-widgets/base",
      "_model_module_version": "1.2.0",
      "_model_name": "LayoutModel",
      "_view_count": null,
      "_view_module": "@jupyter-widgets/base",
      "_view_module_version": "1.2.0",
      "_view_name": "LayoutView",
      "align_content": null,
      "align_items": null,
      "align_self": null,
      "border": null,
      "bottom": null,
      "display": null,
      "flex": null,
      "flex_flow": null,
      "grid_area": null,
      "grid_auto_columns": null,
      "grid_auto_flow": null,
      "grid_auto_rows": null,
      "grid_column": null,
      "grid_gap": null,
      "grid_row": null,
      "grid_template_areas": null,
      "grid_template_columns": null,
      "grid_template_rows": null,
      "height": null,
      "justify_content": null,
      "justify_items": null,
      "left": null,
      "margin": null,
      "max_height": null,
      "max_width": null,
      "min_height": null,
      "min_width": null,
      "object_fit": null,
      "object_position": null,
      "order": null,
      "overflow": null,
      "overflow_x": null,
      "overflow_y": null,
      "padding": null,
      "right": null,
      "top": null,
      "visibility": null,
      "width": null
     }
    },
    "7fb7f935e0a740d6b32f635565a1d436": {
     "model_module": "@jupyter-widgets/controls",
     "model_module_version": "1.5.0",
     "model_name": "ProgressStyleModel",
     "state": {
      "_model_module": "@jupyter-widgets/controls",
      "_model_module_version": "1.5.0",
      "_model_name": "ProgressStyleModel",
      "_view_count": null,
      "_view_module": "@jupyter-widgets/base",
      "_view_module_version": "1.2.0",
      "_view_name": "StyleView",
      "bar_color": null,
      "description_width": ""
     }
    },
    "7fe0b817123346f983fac952de39c16b": {
     "model_module": "@jupyter-widgets/controls",
     "model_module_version": "1.5.0",
     "model_name": "HBoxModel",
     "state": {
      "_dom_classes": [],
      "_model_module": "@jupyter-widgets/controls",
      "_model_module_version": "1.5.0",
      "_model_name": "HBoxModel",
      "_view_count": null,
      "_view_module": "@jupyter-widgets/controls",
      "_view_module_version": "1.5.0",
      "_view_name": "HBoxView",
      "box_style": "",
      "children": [
       "IPY_MODEL_8ef0bd91c9c041378a2a27f7423b37a4",
       "IPY_MODEL_c565ed2a12994bbe92fa5fe95dd28aee",
       "IPY_MODEL_65cb0bbac7104a79b9139afaf80cf311"
      ],
      "layout": "IPY_MODEL_4f98d6cf622f4e2d9972f871824e2f3f"
     }
    },
    "879769c02a4548a49502ba97cad2b18a": {
     "model_module": "@jupyter-widgets/controls",
     "model_module_version": "1.5.0",
     "model_name": "HTMLModel",
     "state": {
      "_dom_classes": [],
      "_model_module": "@jupyter-widgets/controls",
      "_model_module_version": "1.5.0",
      "_model_name": "HTMLModel",
      "_view_count": null,
      "_view_module": "@jupyter-widgets/controls",
      "_view_module_version": "1.5.0",
      "_view_name": "HTMLView",
      "description": "",
      "description_tooltip": null,
      "layout": "IPY_MODEL_42728ad272754885b36747ddf4f07f02",
      "placeholder": "​",
      "style": "IPY_MODEL_97fe0783700d4586b1e886cc51728ee9",
      "value": "Map: 100%"
     }
    },
    "87a19ee62be04703b976e7fcb3be7c5f": {
     "model_module": "@jupyter-widgets/controls",
     "model_module_version": "1.5.0",
     "model_name": "FloatProgressModel",
     "state": {
      "_dom_classes": [],
      "_model_module": "@jupyter-widgets/controls",
      "_model_module_version": "1.5.0",
      "_model_name": "FloatProgressModel",
      "_view_count": null,
      "_view_module": "@jupyter-widgets/controls",
      "_view_module_version": "1.5.0",
      "_view_name": "ProgressView",
      "bar_style": "success",
      "description": "",
      "description_tooltip": null,
      "layout": "IPY_MODEL_503aaec1dd924f34821889b23cb132bc",
      "max": 2447,
      "min": 0,
      "orientation": "horizontal",
      "style": "IPY_MODEL_51d847a0b841461597f61dbc577d69f8",
      "value": 2447
     }
    },
    "87d281b1b6de4ea1903e37127b56d927": {
     "model_module": "@jupyter-widgets/controls",
     "model_module_version": "1.5.0",
     "model_name": "HTMLModel",
     "state": {
      "_dom_classes": [],
      "_model_module": "@jupyter-widgets/controls",
      "_model_module_version": "1.5.0",
      "_model_name": "HTMLModel",
      "_view_count": null,
      "_view_module": "@jupyter-widgets/controls",
      "_view_module_version": "1.5.0",
      "_view_name": "HTMLView",
      "description": "",
      "description_tooltip": null,
      "layout": "IPY_MODEL_7ef49a2484be4aef8b6d4c753c647756",
      "placeholder": "​",
      "style": "IPY_MODEL_3526c995c2c743e885611f515e7df211",
      "value": " 2447/2447 [00:00&lt;00:00, 16477.89 examples/s]"
     }
    },
    "89d4ece49b954c44ba852a4e235417aa": {
     "model_module": "@jupyter-widgets/controls",
     "model_module_version": "1.5.0",
     "model_name": "DescriptionStyleModel",
     "state": {
      "_model_module": "@jupyter-widgets/controls",
      "_model_module_version": "1.5.0",
      "_model_name": "DescriptionStyleModel",
      "_view_count": null,
      "_view_module": "@jupyter-widgets/base",
      "_view_module_version": "1.2.0",
      "_view_name": "StyleView",
      "description_width": ""
     }
    },
    "8acce1b076e74987a9feaf391f122fdc": {
     "model_module": "@jupyter-widgets/controls",
     "model_module_version": "1.5.0",
     "model_name": "DescriptionStyleModel",
     "state": {
      "_model_module": "@jupyter-widgets/controls",
      "_model_module_version": "1.5.0",
      "_model_name": "DescriptionStyleModel",
      "_view_count": null,
      "_view_module": "@jupyter-widgets/base",
      "_view_module_version": "1.2.0",
      "_view_name": "StyleView",
      "description_width": ""
     }
    },
    "8ba93af4becd4383810fe8bbfe666d90": {
     "model_module": "@jupyter-widgets/controls",
     "model_module_version": "1.5.0",
     "model_name": "HBoxModel",
     "state": {
      "_dom_classes": [],
      "_model_module": "@jupyter-widgets/controls",
      "_model_module_version": "1.5.0",
      "_model_name": "HBoxModel",
      "_view_count": null,
      "_view_module": "@jupyter-widgets/controls",
      "_view_module_version": "1.5.0",
      "_view_name": "HBoxView",
      "box_style": "",
      "children": [
       "IPY_MODEL_212541cfe0eb44718a0bfee52431f154",
       "IPY_MODEL_2e9b89daf1df47419c6a26a33a6d9b29",
       "IPY_MODEL_1435e2d3ec3c48bf8ba1bccdea13d2d3"
      ],
      "layout": "IPY_MODEL_5a905677e00e41a88aeea4a81d286c06"
     }
    },
    "8ef0bd91c9c041378a2a27f7423b37a4": {
     "model_module": "@jupyter-widgets/controls",
     "model_module_version": "1.5.0",
     "model_name": "HTMLModel",
     "state": {
      "_dom_classes": [],
      "_model_module": "@jupyter-widgets/controls",
      "_model_module_version": "1.5.0",
      "_model_name": "HTMLModel",
      "_view_count": null,
      "_view_module": "@jupyter-widgets/controls",
      "_view_module_version": "1.5.0",
      "_view_name": "HTMLView",
      "description": "",
      "description_tooltip": null,
      "layout": "IPY_MODEL_27b3c9beada24496acab46d19a1ea7b4",
      "placeholder": "​",
      "style": "IPY_MODEL_4f242d81f1a0497a9fdf1697f64ad10d",
      "value": "Map: 100%"
     }
    },
    "8f71419a2bbf44319f918cf314a8480c": {
     "model_module": "@jupyter-widgets/controls",
     "model_module_version": "1.5.0",
     "model_name": "ProgressStyleModel",
     "state": {
      "_model_module": "@jupyter-widgets/controls",
      "_model_module_version": "1.5.0",
      "_model_name": "ProgressStyleModel",
      "_view_count": null,
      "_view_module": "@jupyter-widgets/base",
      "_view_module_version": "1.2.0",
      "_view_name": "StyleView",
      "bar_color": null,
      "description_width": ""
     }
    },
    "92b36a063a644ad28169f7027024cf42": {
     "model_module": "@jupyter-widgets/controls",
     "model_module_version": "1.5.0",
     "model_name": "DescriptionStyleModel",
     "state": {
      "_model_module": "@jupyter-widgets/controls",
      "_model_module_version": "1.5.0",
      "_model_name": "DescriptionStyleModel",
      "_view_count": null,
      "_view_module": "@jupyter-widgets/base",
      "_view_module_version": "1.2.0",
      "_view_name": "StyleView",
      "description_width": ""
     }
    },
    "97a2b9d05c27487497d6926b541a7d0c": {
     "model_module": "@jupyter-widgets/controls",
     "model_module_version": "1.5.0",
     "model_name": "FloatProgressModel",
     "state": {
      "_dom_classes": [],
      "_model_module": "@jupyter-widgets/controls",
      "_model_module_version": "1.5.0",
      "_model_name": "FloatProgressModel",
      "_view_count": null,
      "_view_module": "@jupyter-widgets/controls",
      "_view_module_version": "1.5.0",
      "_view_name": "ProgressView",
      "bar_style": "success",
      "description": "",
      "description_tooltip": null,
      "layout": "IPY_MODEL_fd6be2a88dc041cea1ea164da6d6ea28",
      "max": 435778770,
      "min": 0,
      "orientation": "horizontal",
      "style": "IPY_MODEL_01b5338beb79483e8cb8159dcaaa832b",
      "value": 435778770
     }
    },
    "97fe0783700d4586b1e886cc51728ee9": {
     "model_module": "@jupyter-widgets/controls",
     "model_module_version": "1.5.0",
     "model_name": "DescriptionStyleModel",
     "state": {
      "_model_module": "@jupyter-widgets/controls",
      "_model_module_version": "1.5.0",
      "_model_name": "DescriptionStyleModel",
      "_view_count": null,
      "_view_module": "@jupyter-widgets/base",
      "_view_module_version": "1.2.0",
      "_view_name": "StyleView",
      "description_width": ""
     }
    },
    "9dc4d5d07fd8418bbce1d1ebe7cf0fbe": {
     "model_module": "@jupyter-widgets/controls",
     "model_module_version": "1.5.0",
     "model_name": "DescriptionStyleModel",
     "state": {
      "_model_module": "@jupyter-widgets/controls",
      "_model_module_version": "1.5.0",
      "_model_name": "DescriptionStyleModel",
      "_view_count": null,
      "_view_module": "@jupyter-widgets/base",
      "_view_module_version": "1.2.0",
      "_view_name": "StyleView",
      "description_width": ""
     }
    },
    "a12877d026f842e789a34ba8d61c4a28": {
     "model_module": "@jupyter-widgets/base",
     "model_module_version": "1.2.0",
     "model_name": "LayoutModel",
     "state": {
      "_model_module": "@jupyter-widgets/base",
      "_model_module_version": "1.2.0",
      "_model_name": "LayoutModel",
      "_view_count": null,
      "_view_module": "@jupyter-widgets/base",
      "_view_module_version": "1.2.0",
      "_view_name": "LayoutView",
      "align_content": null,
      "align_items": null,
      "align_self": null,
      "border": null,
      "bottom": null,
      "display": null,
      "flex": null,
      "flex_flow": null,
      "grid_area": null,
      "grid_auto_columns": null,
      "grid_auto_flow": null,
      "grid_auto_rows": null,
      "grid_column": null,
      "grid_gap": null,
      "grid_row": null,
      "grid_template_areas": null,
      "grid_template_columns": null,
      "grid_template_rows": null,
      "height": null,
      "justify_content": null,
      "justify_items": null,
      "left": null,
      "margin": null,
      "max_height": null,
      "max_width": null,
      "min_height": null,
      "min_width": null,
      "object_fit": null,
      "object_position": null,
      "order": null,
      "overflow": null,
      "overflow_x": null,
      "overflow_y": null,
      "padding": null,
      "right": null,
      "top": null,
      "visibility": null,
      "width": null
     }
    },
    "a13a037359d541efb3ebd618e11b4d76": {
     "model_module": "@jupyter-widgets/base",
     "model_module_version": "1.2.0",
     "model_name": "LayoutModel",
     "state": {
      "_model_module": "@jupyter-widgets/base",
      "_model_module_version": "1.2.0",
      "_model_name": "LayoutModel",
      "_view_count": null,
      "_view_module": "@jupyter-widgets/base",
      "_view_module_version": "1.2.0",
      "_view_name": "LayoutView",
      "align_content": null,
      "align_items": null,
      "align_self": null,
      "border": null,
      "bottom": null,
      "display": null,
      "flex": null,
      "flex_flow": null,
      "grid_area": null,
      "grid_auto_columns": null,
      "grid_auto_flow": null,
      "grid_auto_rows": null,
      "grid_column": null,
      "grid_gap": null,
      "grid_row": null,
      "grid_template_areas": null,
      "grid_template_columns": null,
      "grid_template_rows": null,
      "height": null,
      "justify_content": null,
      "justify_items": null,
      "left": null,
      "margin": null,
      "max_height": null,
      "max_width": null,
      "min_height": null,
      "min_width": null,
      "object_fit": null,
      "object_position": null,
      "order": null,
      "overflow": null,
      "overflow_x": null,
      "overflow_y": null,
      "padding": null,
      "right": null,
      "top": null,
      "visibility": null,
      "width": null
     }
    },
    "a1af548259484a54b7f290e1ebf7f984": {
     "model_module": "@jupyter-widgets/controls",
     "model_module_version": "1.5.0",
     "model_name": "FloatProgressModel",
     "state": {
      "_dom_classes": [],
      "_model_module": "@jupyter-widgets/controls",
      "_model_module_version": "1.5.0",
      "_model_name": "FloatProgressModel",
      "_view_count": null,
      "_view_module": "@jupyter-widgets/controls",
      "_view_module_version": "1.5.0",
      "_view_name": "ProgressView",
      "bar_style": "success",
      "description": "",
      "description_tooltip": null,
      "layout": "IPY_MODEL_56422ab214714222bc61460bce8d1769",
      "max": 27625,
      "min": 0,
      "orientation": "horizontal",
      "style": "IPY_MODEL_776524a6233349ed9adbfc56736a1f17",
      "value": 27625
     }
    },
    "a8572124e3fd4a6eb8262c6746564c03": {
     "model_module": "@jupyter-widgets/base",
     "model_module_version": "1.2.0",
     "model_name": "LayoutModel",
     "state": {
      "_model_module": "@jupyter-widgets/base",
      "_model_module_version": "1.2.0",
      "_model_name": "LayoutModel",
      "_view_count": null,
      "_view_module": "@jupyter-widgets/base",
      "_view_module_version": "1.2.0",
      "_view_name": "LayoutView",
      "align_content": null,
      "align_items": null,
      "align_self": null,
      "border": null,
      "bottom": null,
      "display": null,
      "flex": null,
      "flex_flow": null,
      "grid_area": null,
      "grid_auto_columns": null,
      "grid_auto_flow": null,
      "grid_auto_rows": null,
      "grid_column": null,
      "grid_gap": null,
      "grid_row": null,
      "grid_template_areas": null,
      "grid_template_columns": null,
      "grid_template_rows": null,
      "height": null,
      "justify_content": null,
      "justify_items": null,
      "left": null,
      "margin": null,
      "max_height": null,
      "max_width": null,
      "min_height": null,
      "min_width": null,
      "object_fit": null,
      "object_position": null,
      "order": null,
      "overflow": null,
      "overflow_x": null,
      "overflow_y": null,
      "padding": null,
      "right": null,
      "top": null,
      "visibility": null,
      "width": null
     }
    },
    "ad54c495bd31477fadffd6d47615bdd8": {
     "model_module": "@jupyter-widgets/controls",
     "model_module_version": "1.5.0",
     "model_name": "HTMLModel",
     "state": {
      "_dom_classes": [],
      "_model_module": "@jupyter-widgets/controls",
      "_model_module_version": "1.5.0",
      "_model_name": "HTMLModel",
      "_view_count": null,
      "_view_module": "@jupyter-widgets/controls",
      "_view_module_version": "1.5.0",
      "_view_name": "HTMLView",
      "description": "",
      "description_tooltip": null,
      "layout": "IPY_MODEL_ec7e191f59174462b0cb30c3ca2e2965",
      "placeholder": "​",
      "style": "IPY_MODEL_4ef0d61b18424804869169cfaf3af3fd",
      "value": " 27625/27625 [00:05&lt;00:00, 3819.05 examples/s]"
     }
    },
    "aee7e40367d1406ebdadf9aa68472832": {
     "model_module": "@jupyter-widgets/base",
     "model_module_version": "1.2.0",
     "model_name": "LayoutModel",
     "state": {
      "_model_module": "@jupyter-widgets/base",
      "_model_module_version": "1.2.0",
      "_model_name": "LayoutModel",
      "_view_count": null,
      "_view_module": "@jupyter-widgets/base",
      "_view_module_version": "1.2.0",
      "_view_name": "LayoutView",
      "align_content": null,
      "align_items": null,
      "align_self": null,
      "border": null,
      "bottom": null,
      "display": null,
      "flex": null,
      "flex_flow": null,
      "grid_area": null,
      "grid_auto_columns": null,
      "grid_auto_flow": null,
      "grid_auto_rows": null,
      "grid_column": null,
      "grid_gap": null,
      "grid_row": null,
      "grid_template_areas": null,
      "grid_template_columns": null,
      "grid_template_rows": null,
      "height": null,
      "justify_content": null,
      "justify_items": null,
      "left": null,
      "margin": null,
      "max_height": null,
      "max_width": null,
      "min_height": null,
      "min_width": null,
      "object_fit": null,
      "object_position": null,
      "order": null,
      "overflow": null,
      "overflow_x": null,
      "overflow_y": null,
      "padding": null,
      "right": null,
      "top": null,
      "visibility": null,
      "width": null
     }
    },
    "b4add87223ad43d98158fbeab95b1d08": {
     "model_module": "@jupyter-widgets/controls",
     "model_module_version": "1.5.0",
     "model_name": "HBoxModel",
     "state": {
      "_dom_classes": [],
      "_model_module": "@jupyter-widgets/controls",
      "_model_module_version": "1.5.0",
      "_model_name": "HBoxModel",
      "_view_count": null,
      "_view_module": "@jupyter-widgets/controls",
      "_view_module_version": "1.5.0",
      "_view_name": "HBoxView",
      "box_style": "",
      "children": [
       "IPY_MODEL_b540067de1534cdbbec31d899d5c6cc7",
       "IPY_MODEL_1bd47f83e7f9444c85c1e07d6c14d4e3",
       "IPY_MODEL_11cd6d311a96470c9581f501ef0cca91"
      ],
      "layout": "IPY_MODEL_a8572124e3fd4a6eb8262c6746564c03"
     }
    },
    "b51442b3c38a4fb18f4a0e1776713632": {
     "model_module": "@jupyter-widgets/controls",
     "model_module_version": "1.5.0",
     "model_name": "HBoxModel",
     "state": {
      "_dom_classes": [],
      "_model_module": "@jupyter-widgets/controls",
      "_model_module_version": "1.5.0",
      "_model_name": "HBoxModel",
      "_view_count": null,
      "_view_module": "@jupyter-widgets/controls",
      "_view_module_version": "1.5.0",
      "_view_name": "HBoxView",
      "box_style": "",
      "children": [
       "IPY_MODEL_879769c02a4548a49502ba97cad2b18a",
       "IPY_MODEL_a1af548259484a54b7f290e1ebf7f984",
       "IPY_MODEL_ad54c495bd31477fadffd6d47615bdd8"
      ],
      "layout": "IPY_MODEL_a12877d026f842e789a34ba8d61c4a28"
     }
    },
    "b540067de1534cdbbec31d899d5c6cc7": {
     "model_module": "@jupyter-widgets/controls",
     "model_module_version": "1.5.0",
     "model_name": "HTMLModel",
     "state": {
      "_dom_classes": [],
      "_model_module": "@jupyter-widgets/controls",
      "_model_module_version": "1.5.0",
      "_model_name": "HTMLModel",
      "_view_count": null,
      "_view_module": "@jupyter-widgets/controls",
      "_view_module_version": "1.5.0",
      "_view_name": "HTMLView",
      "description": "",
      "description_tooltip": null,
      "layout": "IPY_MODEL_ef97ed1f014c42b6b5af8000524176ba",
      "placeholder": "​",
      "style": "IPY_MODEL_38603a1843fc46a7afa16fa34747ef42",
      "value": "Map: 100%"
     }
    },
    "b6eb389d7c634af984ecb4af1bb7c30d": {
     "model_module": "@jupyter-widgets/controls",
     "model_module_version": "1.5.0",
     "model_name": "DescriptionStyleModel",
     "state": {
      "_model_module": "@jupyter-widgets/controls",
      "_model_module_version": "1.5.0",
      "_model_name": "DescriptionStyleModel",
      "_view_count": null,
      "_view_module": "@jupyter-widgets/base",
      "_view_module_version": "1.2.0",
      "_view_name": "StyleView",
      "description_width": ""
     }
    },
    "c01f32430c194c2392c59e4be34dca95": {
     "model_module": "@jupyter-widgets/controls",
     "model_module_version": "1.5.0",
     "model_name": "ProgressStyleModel",
     "state": {
      "_model_module": "@jupyter-widgets/controls",
      "_model_module_version": "1.5.0",
      "_model_name": "ProgressStyleModel",
      "_view_count": null,
      "_view_module": "@jupyter-widgets/base",
      "_view_module_version": "1.2.0",
      "_view_name": "StyleView",
      "bar_color": null,
      "description_width": ""
     }
    },
    "c2bf3d75a7f44da79cfbb20991255b78": {
     "model_module": "@jupyter-widgets/controls",
     "model_module_version": "1.5.0",
     "model_name": "HTMLModel",
     "state": {
      "_dom_classes": [],
      "_model_module": "@jupyter-widgets/controls",
      "_model_module_version": "1.5.0",
      "_model_name": "HTMLModel",
      "_view_count": null,
      "_view_module": "@jupyter-widgets/controls",
      "_view_module_version": "1.5.0",
      "_view_name": "HTMLView",
      "description": "",
      "description_tooltip": null,
      "layout": "IPY_MODEL_a13a037359d541efb3ebd618e11b4d76",
      "placeholder": "​",
      "style": "IPY_MODEL_9dc4d5d07fd8418bbce1d1ebe7cf0fbe",
      "value": "pytorch_model.bin: 100%"
     }
    },
    "c565ed2a12994bbe92fa5fe95dd28aee": {
     "model_module": "@jupyter-widgets/controls",
     "model_module_version": "1.5.0",
     "model_name": "FloatProgressModel",
     "state": {
      "_dom_classes": [],
      "_model_module": "@jupyter-widgets/controls",
      "_model_module_version": "1.5.0",
      "_model_name": "FloatProgressModel",
      "_view_count": null,
      "_view_module": "@jupyter-widgets/controls",
      "_view_module_version": "1.5.0",
      "_view_name": "ProgressView",
      "bar_style": "success",
      "description": "",
      "description_tooltip": null,
      "layout": "IPY_MODEL_aee7e40367d1406ebdadf9aa68472832",
      "max": 50,
      "min": 0,
      "orientation": "horizontal",
      "style": "IPY_MODEL_8f71419a2bbf44319f918cf314a8480c",
      "value": 50
     }
    },
    "c95e75e3fe154ca3a09ed8c104ec4c55": {
     "model_module": "@jupyter-widgets/base",
     "model_module_version": "1.2.0",
     "model_name": "LayoutModel",
     "state": {
      "_model_module": "@jupyter-widgets/base",
      "_model_module_version": "1.2.0",
      "_model_name": "LayoutModel",
      "_view_count": null,
      "_view_module": "@jupyter-widgets/base",
      "_view_module_version": "1.2.0",
      "_view_name": "LayoutView",
      "align_content": null,
      "align_items": null,
      "align_self": null,
      "border": null,
      "bottom": null,
      "display": null,
      "flex": null,
      "flex_flow": null,
      "grid_area": null,
      "grid_auto_columns": null,
      "grid_auto_flow": null,
      "grid_auto_rows": null,
      "grid_column": null,
      "grid_gap": null,
      "grid_row": null,
      "grid_template_areas": null,
      "grid_template_columns": null,
      "grid_template_rows": null,
      "height": null,
      "justify_content": null,
      "justify_items": null,
      "left": null,
      "margin": null,
      "max_height": null,
      "max_width": null,
      "min_height": null,
      "min_width": null,
      "object_fit": null,
      "object_position": null,
      "order": null,
      "overflow": null,
      "overflow_x": null,
      "overflow_y": null,
      "padding": null,
      "right": null,
      "top": null,
      "visibility": null,
      "width": null
     }
    },
    "cb67d4afd9834969bafcd83da60e6cac": {
     "model_module": "@jupyter-widgets/controls",
     "model_module_version": "1.5.0",
     "model_name": "HTMLModel",
     "state": {
      "_dom_classes": [],
      "_model_module": "@jupyter-widgets/controls",
      "_model_module_version": "1.5.0",
      "_model_name": "HTMLModel",
      "_view_count": null,
      "_view_module": "@jupyter-widgets/controls",
      "_view_module_version": "1.5.0",
      "_view_name": "HTMLView",
      "description": "",
      "description_tooltip": null,
      "layout": "IPY_MODEL_212b8411501d496eb6a3d045634e2676",
      "placeholder": "​",
      "style": "IPY_MODEL_51e0e610d7d8472d87c4774350bfc11f",
      "value": "Map: 100%"
     }
    },
    "cd59d008efe449dfab310a0743ef9001": {
     "model_module": "@jupyter-widgets/controls",
     "model_module_version": "1.5.0",
     "model_name": "DescriptionStyleModel",
     "state": {
      "_model_module": "@jupyter-widgets/controls",
      "_model_module_version": "1.5.0",
      "_model_name": "DescriptionStyleModel",
      "_view_count": null,
      "_view_module": "@jupyter-widgets/base",
      "_view_module_version": "1.2.0",
      "_view_name": "StyleView",
      "description_width": ""
     }
    },
    "e8e312c4e0f1466ab316da845feb698d": {
     "model_module": "@jupyter-widgets/base",
     "model_module_version": "1.2.0",
     "model_name": "LayoutModel",
     "state": {
      "_model_module": "@jupyter-widgets/base",
      "_model_module_version": "1.2.0",
      "_model_name": "LayoutModel",
      "_view_count": null,
      "_view_module": "@jupyter-widgets/base",
      "_view_module_version": "1.2.0",
      "_view_name": "LayoutView",
      "align_content": null,
      "align_items": null,
      "align_self": null,
      "border": null,
      "bottom": null,
      "display": null,
      "flex": null,
      "flex_flow": null,
      "grid_area": null,
      "grid_auto_columns": null,
      "grid_auto_flow": null,
      "grid_auto_rows": null,
      "grid_column": null,
      "grid_gap": null,
      "grid_row": null,
      "grid_template_areas": null,
      "grid_template_columns": null,
      "grid_template_rows": null,
      "height": null,
      "justify_content": null,
      "justify_items": null,
      "left": null,
      "margin": null,
      "max_height": null,
      "max_width": null,
      "min_height": null,
      "min_width": null,
      "object_fit": null,
      "object_position": null,
      "order": null,
      "overflow": null,
      "overflow_x": null,
      "overflow_y": null,
      "padding": null,
      "right": null,
      "top": null,
      "visibility": null,
      "width": null
     }
    },
    "e914795b30a04eb2917d5beabeab7863": {
     "model_module": "@jupyter-widgets/controls",
     "model_module_version": "1.5.0",
     "model_name": "HTMLModel",
     "state": {
      "_dom_classes": [],
      "_model_module": "@jupyter-widgets/controls",
      "_model_module_version": "1.5.0",
      "_model_name": "HTMLModel",
      "_view_count": null,
      "_view_module": "@jupyter-widgets/controls",
      "_view_module_version": "1.5.0",
      "_view_name": "HTMLView",
      "description": "",
      "description_tooltip": null,
      "layout": "IPY_MODEL_0f346ab451554938a04467d3e7315205",
      "placeholder": "​",
      "style": "IPY_MODEL_4c52f32de8524350a9693022b19cc6a1",
      "value": " 436M/436M [00:01&lt;00:00, 342MB/s]"
     }
    },
    "e99ec9e52e2341638e56c94a67abb535": {
     "model_module": "@jupyter-widgets/controls",
     "model_module_version": "1.5.0",
     "model_name": "DescriptionStyleModel",
     "state": {
      "_model_module": "@jupyter-widgets/controls",
      "_model_module_version": "1.5.0",
      "_model_name": "DescriptionStyleModel",
      "_view_count": null,
      "_view_module": "@jupyter-widgets/base",
      "_view_module_version": "1.2.0",
      "_view_name": "StyleView",
      "description_width": ""
     }
    },
    "ec7e191f59174462b0cb30c3ca2e2965": {
     "model_module": "@jupyter-widgets/base",
     "model_module_version": "1.2.0",
     "model_name": "LayoutModel",
     "state": {
      "_model_module": "@jupyter-widgets/base",
      "_model_module_version": "1.2.0",
      "_model_name": "LayoutModel",
      "_view_count": null,
      "_view_module": "@jupyter-widgets/base",
      "_view_module_version": "1.2.0",
      "_view_name": "LayoutView",
      "align_content": null,
      "align_items": null,
      "align_self": null,
      "border": null,
      "bottom": null,
      "display": null,
      "flex": null,
      "flex_flow": null,
      "grid_area": null,
      "grid_auto_columns": null,
      "grid_auto_flow": null,
      "grid_auto_rows": null,
      "grid_column": null,
      "grid_gap": null,
      "grid_row": null,
      "grid_template_areas": null,
      "grid_template_columns": null,
      "grid_template_rows": null,
      "height": null,
      "justify_content": null,
      "justify_items": null,
      "left": null,
      "margin": null,
      "max_height": null,
      "max_width": null,
      "min_height": null,
      "min_width": null,
      "object_fit": null,
      "object_position": null,
      "order": null,
      "overflow": null,
      "overflow_x": null,
      "overflow_y": null,
      "padding": null,
      "right": null,
      "top": null,
      "visibility": null,
      "width": null
     }
    },
    "ef194b6c14d044b9b4ca5b41ddf74c66": {
     "model_module": "@jupyter-widgets/base",
     "model_module_version": "1.2.0",
     "model_name": "LayoutModel",
     "state": {
      "_model_module": "@jupyter-widgets/base",
      "_model_module_version": "1.2.0",
      "_model_name": "LayoutModel",
      "_view_count": null,
      "_view_module": "@jupyter-widgets/base",
      "_view_module_version": "1.2.0",
      "_view_name": "LayoutView",
      "align_content": null,
      "align_items": null,
      "align_self": null,
      "border": null,
      "bottom": null,
      "display": null,
      "flex": null,
      "flex_flow": null,
      "grid_area": null,
      "grid_auto_columns": null,
      "grid_auto_flow": null,
      "grid_auto_rows": null,
      "grid_column": null,
      "grid_gap": null,
      "grid_row": null,
      "grid_template_areas": null,
      "grid_template_columns": null,
      "grid_template_rows": null,
      "height": null,
      "justify_content": null,
      "justify_items": null,
      "left": null,
      "margin": null,
      "max_height": null,
      "max_width": null,
      "min_height": null,
      "min_width": null,
      "object_fit": null,
      "object_position": null,
      "order": null,
      "overflow": null,
      "overflow_x": null,
      "overflow_y": null,
      "padding": null,
      "right": null,
      "top": null,
      "visibility": null,
      "width": null
     }
    },
    "ef97ed1f014c42b6b5af8000524176ba": {
     "model_module": "@jupyter-widgets/base",
     "model_module_version": "1.2.0",
     "model_name": "LayoutModel",
     "state": {
      "_model_module": "@jupyter-widgets/base",
      "_model_module_version": "1.2.0",
      "_model_name": "LayoutModel",
      "_view_count": null,
      "_view_module": "@jupyter-widgets/base",
      "_view_module_version": "1.2.0",
      "_view_name": "LayoutView",
      "align_content": null,
      "align_items": null,
      "align_self": null,
      "border": null,
      "bottom": null,
      "display": null,
      "flex": null,
      "flex_flow": null,
      "grid_area": null,
      "grid_auto_columns": null,
      "grid_auto_flow": null,
      "grid_auto_rows": null,
      "grid_column": null,
      "grid_gap": null,
      "grid_row": null,
      "grid_template_areas": null,
      "grid_template_columns": null,
      "grid_template_rows": null,
      "height": null,
      "justify_content": null,
      "justify_items": null,
      "left": null,
      "margin": null,
      "max_height": null,
      "max_width": null,
      "min_height": null,
      "min_width": null,
      "object_fit": null,
      "object_position": null,
      "order": null,
      "overflow": null,
      "overflow_x": null,
      "overflow_y": null,
      "padding": null,
      "right": null,
      "top": null,
      "visibility": null,
      "width": null
     }
    },
    "f2236371d168400f99351e0a6669b964": {
     "model_module": "@jupyter-widgets/controls",
     "model_module_version": "1.5.0",
     "model_name": "ProgressStyleModel",
     "state": {
      "_model_module": "@jupyter-widgets/controls",
      "_model_module_version": "1.5.0",
      "_model_name": "ProgressStyleModel",
      "_view_count": null,
      "_view_module": "@jupyter-widgets/base",
      "_view_module_version": "1.2.0",
      "_view_name": "StyleView",
      "bar_color": null,
      "description_width": ""
     }
    },
    "fa997566da1f4cf0a196973e1e73a374": {
     "model_module": "@jupyter-widgets/base",
     "model_module_version": "1.2.0",
     "model_name": "LayoutModel",
     "state": {
      "_model_module": "@jupyter-widgets/base",
      "_model_module_version": "1.2.0",
      "_model_name": "LayoutModel",
      "_view_count": null,
      "_view_module": "@jupyter-widgets/base",
      "_view_module_version": "1.2.0",
      "_view_name": "LayoutView",
      "align_content": null,
      "align_items": null,
      "align_self": null,
      "border": null,
      "bottom": null,
      "display": null,
      "flex": null,
      "flex_flow": null,
      "grid_area": null,
      "grid_auto_columns": null,
      "grid_auto_flow": null,
      "grid_auto_rows": null,
      "grid_column": null,
      "grid_gap": null,
      "grid_row": null,
      "grid_template_areas": null,
      "grid_template_columns": null,
      "grid_template_rows": null,
      "height": null,
      "justify_content": null,
      "justify_items": null,
      "left": null,
      "margin": null,
      "max_height": null,
      "max_width": null,
      "min_height": null,
      "min_width": null,
      "object_fit": null,
      "object_position": null,
      "order": null,
      "overflow": null,
      "overflow_x": null,
      "overflow_y": null,
      "padding": null,
      "right": null,
      "top": null,
      "visibility": null,
      "width": null
     }
    },
    "fd6be2a88dc041cea1ea164da6d6ea28": {
     "model_module": "@jupyter-widgets/base",
     "model_module_version": "1.2.0",
     "model_name": "LayoutModel",
     "state": {
      "_model_module": "@jupyter-widgets/base",
      "_model_module_version": "1.2.0",
      "_model_name": "LayoutModel",
      "_view_count": null,
      "_view_module": "@jupyter-widgets/base",
      "_view_module_version": "1.2.0",
      "_view_name": "LayoutView",
      "align_content": null,
      "align_items": null,
      "align_self": null,
      "border": null,
      "bottom": null,
      "display": null,
      "flex": null,
      "flex_flow": null,
      "grid_area": null,
      "grid_auto_columns": null,
      "grid_auto_flow": null,
      "grid_auto_rows": null,
      "grid_column": null,
      "grid_gap": null,
      "grid_row": null,
      "grid_template_areas": null,
      "grid_template_columns": null,
      "grid_template_rows": null,
      "height": null,
      "justify_content": null,
      "justify_items": null,
      "left": null,
      "margin": null,
      "max_height": null,
      "max_width": null,
      "min_height": null,
      "min_width": null,
      "object_fit": null,
      "object_position": null,
      "order": null,
      "overflow": null,
      "overflow_x": null,
      "overflow_y": null,
      "padding": null,
      "right": null,
      "top": null,
      "visibility": null,
      "width": null
     }
    },
    "fe16c9a7257946448a3a621dbf81133e": {
     "model_module": "@jupyter-widgets/base",
     "model_module_version": "1.2.0",
     "model_name": "LayoutModel",
     "state": {
      "_model_module": "@jupyter-widgets/base",
      "_model_module_version": "1.2.0",
      "_model_name": "LayoutModel",
      "_view_count": null,
      "_view_module": "@jupyter-widgets/base",
      "_view_module_version": "1.2.0",
      "_view_name": "LayoutView",
      "align_content": null,
      "align_items": null,
      "align_self": null,
      "border": null,
      "bottom": null,
      "display": null,
      "flex": null,
      "flex_flow": null,
      "grid_area": null,
      "grid_auto_columns": null,
      "grid_auto_flow": null,
      "grid_auto_rows": null,
      "grid_column": null,
      "grid_gap": null,
      "grid_row": null,
      "grid_template_areas": null,
      "grid_template_columns": null,
      "grid_template_rows": null,
      "height": null,
      "justify_content": null,
      "justify_items": null,
      "left": null,
      "margin": null,
      "max_height": null,
      "max_width": null,
      "min_height": null,
      "min_width": null,
      "object_fit": null,
      "object_position": null,
      "order": null,
      "overflow": null,
      "overflow_x": null,
      "overflow_y": null,
      "padding": null,
      "right": null,
      "top": null,
      "visibility": null,
      "width": null
     }
    }
   }
  }
 },
 "nbformat": 4,
 "nbformat_minor": 5
}
